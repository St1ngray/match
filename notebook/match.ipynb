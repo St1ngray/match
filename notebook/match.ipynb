{
 "cells": [
  {
   "cell_type": "code",
   "execution_count": null,
   "metadata": {
    "ExecuteTime": {
     "end_time": "2018-03-12T08:32:56.999840Z",
     "start_time": "2018-03-12T08:32:56.972074Z"
    }
   },
   "outputs": [],
   "source": [
    "%load_ext autoreload\n",
    "%autoreload 2"
   ]
  },
  {
   "cell_type": "code",
   "execution_count": null,
   "metadata": {
    "ExecuteTime": {
     "end_time": "2018-03-12T08:32:58.951766Z",
     "start_time": "2018-03-12T08:32:57.003357Z"
    }
   },
   "outputs": [],
   "source": [
    "import sys\n",
    "\n",
    "import numpy as np\n",
    "import pandas as pd\n",
    "\n",
    "sys.path.insert(0, '..')\n",
    "from match.make_match_panel import make_match_panel\n",
    "from match.make_summary_match_panel import make_summary_match_panel\n",
    "from match.make_comparison_panel import make_comparison_panel"
   ]
  },
  {
   "cell_type": "code",
   "execution_count": null,
   "metadata": {
    "ExecuteTime": {
     "end_time": "2018-03-12T08:33:00.871025Z",
     "start_time": "2018-03-12T08:32:58.956205Z"
    }
   },
   "outputs": [],
   "source": [
    "features = pd.read_table('gene_set_x_sample.tsv', index_col=0)\n",
    "\n",
    "target = pd.Series(\n",
    "    (0, ) * 3 + (1, ) * 3, name='Target', index=features.columns)\n",
    "target.index.name = 'Index Name (should not be plotted)'\n",
    "\n",
    "make_match_panel(\n",
    "    target,\n",
    "    features,\n",
    "    target_ascending=True,\n",
    "    cluster_within_category=False,\n",
    "    target_type='binary',\n",
    "    n_sampling=10,\n",
    "    n_permutation=10,\n",
    "    target_xticklabels=('C', ) * 3 + ('T', ) * 3,\n",
    "    plot_column_names=True)"
   ]
  },
  {
   "cell_type": "code",
   "execution_count": null,
   "metadata": {
    "ExecuteTime": {
     "end_time": "2018-03-12T08:33:02.678129Z",
     "start_time": "2018-03-12T08:33:00.873944Z"
    },
    "scrolled": false
   },
   "outputs": [],
   "source": [
    "target = pd.read_table('target.tsv', index_col=0, header=None, squeeze=True)\n",
    "target.name = 'Target Name'\n",
    "\n",
    "features = pd.read_table('features.tsv', index_col=0)\n",
    "\n",
    "make_match_panel(\n",
    "    target, features, min_n_sample=3, n_top_feature=3, max_n_feature=5)"
   ]
  },
  {
   "cell_type": "code",
   "execution_count": null,
   "metadata": {
    "ExecuteTime": {
     "end_time": "2018-03-12T08:33:02.739975Z",
     "start_time": "2018-03-12T08:33:02.686141Z"
    }
   },
   "outputs": [],
   "source": [
    "n_row = 100\n",
    "n_column = 100"
   ]
  },
  {
   "cell_type": "code",
   "execution_count": null,
   "metadata": {
    "ExecuteTime": {
     "end_time": "2018-03-12T08:33:04.350160Z",
     "start_time": "2018-03-12T08:33:02.743238Z"
    },
    "scrolled": false
   },
   "outputs": [],
   "source": [
    "target = pd.Series(\n",
    "    np.random.random_sample(n_column),\n",
    "    name='Target Name',\n",
    "    index=('Sample {}'.format(i) for i in range(n_column)))\n",
    "\n",
    "features_continuous = pd.DataFrame(\n",
    "    np.random.random_sample((n_row, n_column)),\n",
    "    index=('Feature {}'.format(i) for i in range(n_row)),\n",
    "    columns=('Sample {}'.format(i) for i in range(n_column)))\n",
    "\n",
    "make_match_panel(target, features_continuous)"
   ]
  },
  {
   "cell_type": "code",
   "execution_count": null,
   "metadata": {
    "ExecuteTime": {
     "end_time": "2018-03-12T08:33:06.003887Z",
     "start_time": "2018-03-12T08:33:04.353300Z"
    },
    "scrolled": false
   },
   "outputs": [],
   "source": [
    "features_categorical = pd.DataFrame(\n",
    "    np.random.random_integers(0, 5, size=(n_row, n_column)),\n",
    "    index=('Feature {}'.format(i) for i in range(n_row)),\n",
    "    columns=('Sample {}'.format(i) for i in range(n_column)))\n",
    "\n",
    "make_match_panel(target, features_categorical, features_type='categorical')"
   ]
  },
  {
   "cell_type": "code",
   "execution_count": null,
   "metadata": {
    "ExecuteTime": {
     "end_time": "2018-03-12T08:33:07.581518Z",
     "start_time": "2018-03-12T08:33:06.008714Z"
    },
    "scrolled": false
   },
   "outputs": [],
   "source": [
    "features_binary = pd.DataFrame(\n",
    "    np.random.random_integers(0, 1, size=(n_row, n_column)),\n",
    "    index=('Feature {}'.format(i) for i in range(n_row)),\n",
    "    columns=('Sample {}'.format(i) for i in range(n_column)))\n",
    "\n",
    "make_match_panel(target, features_binary, features_type='binary')"
   ]
  },
  {
   "cell_type": "code",
   "execution_count": null,
   "metadata": {
    "ExecuteTime": {
     "end_time": "2018-03-12T08:33:09.249531Z",
     "start_time": "2018-03-12T08:33:07.584740Z"
    },
    "scrolled": false
   },
   "outputs": [],
   "source": [
    "features_with_missing = features_continuous.copy()\n",
    "features_with_missing.loc[\n",
    "    np.random.choice(features_with_missing.index, size=n_column // 3),\n",
    "    np.random.choice(features_with_missing.columns, size=n_column // 3)] = None\n",
    "\n",
    "make_match_panel(target, features_with_missing)"
   ]
  },
  {
   "cell_type": "code",
   "execution_count": null,
   "metadata": {
    "ExecuteTime": {
     "end_time": "2018-03-12T08:33:11.592766Z",
     "start_time": "2018-03-12T08:33:09.253946Z"
    },
    "scrolled": false
   },
   "outputs": [],
   "source": [
    "features = pd.DataFrame(\n",
    "    np.random.random_sample((n_row, 9)),\n",
    "    index=('Feature {}'.format(i) for i in range(n_row)),\n",
    "    columns=('Sample {}'.format(i) for i in range(9)))\n",
    "\n",
    "target = pd.Series(\n",
    "    (0, 0, 0, 1, 1, 1, 0, 0, 0), name='Target Name', index=features.columns)\n",
    "\n",
    "make_match_panel(\n",
    "    target,\n",
    "    features,\n",
    "    target_ascending=None,\n",
    "    cluster_within_category=True,\n",
    "    target_type='binary',\n",
    "    min_n_sample=3,\n",
    "    target_xticklabels=('Low', 'Low', 'Low', 'High', 'High', 'High', 'Low',\n",
    "                        'Low', 'Low'),\n",
    "    plot_column_names=True)"
   ]
  },
  {
   "cell_type": "code",
   "execution_count": null,
   "metadata": {
    "ExecuteTime": {
     "end_time": "2018-03-12T08:33:11.697009Z",
     "start_time": "2018-03-12T08:33:11.595984Z"
    }
   },
   "outputs": [],
   "source": [
    "target = pd.Series(\n",
    "    np.random.random_sample(n_column),\n",
    "    name='Target Name',\n",
    "    index=('Sample {}'.format(i) for i in range(n_column)))\n",
    "\n",
    "features_continuous = pd.DataFrame(\n",
    "    np.random.random_sample((n_row, n_column)),\n",
    "    index=('Feature {}'.format(i) for i in range(n_row)),\n",
    "    columns=('Sample {}'.format(i) for i in range(n_column)))\n",
    "\n",
    "n = 3\n",
    "\n",
    "multiple_features = {\n",
    "    'Continuous features': {\n",
    "        'df': features_continuous.iloc[:n, :],\n",
    "        'indices': ['Feature {}'.format(i) for i in range(n)],\n",
    "        'index_aliases': ['Alias {}'.format(i) for i in range(n)],\n",
    "        'emphasis': 'high',\n",
    "        'data_type': 'continuous'\n",
    "    },\n",
    "    'Categorical features': {\n",
    "        'df': features_categorical.iloc[:n, :],\n",
    "        'indices': ['Feature {}'.format(i) for i in range(n)],\n",
    "        'index_aliases': ['Alias {}'.format(i) for i in range(n)],\n",
    "        'emphasis': 'high',\n",
    "        'data_type': 'categorical'\n",
    "    },\n",
    "    'Binary features': {\n",
    "        'df': features_binary.iloc[:n, :],\n",
    "        'indices': ['Feature {}'.format(i) for i in range(n)],\n",
    "        'index_aliases': ['Alias {}'.format(i) for i in range(n)],\n",
    "        'emphasis': 'high',\n",
    "        'data_type': 'binary'\n",
    "    },\n",
    "    'Cotinuous features (missing last 10 & scores ascending)': {\n",
    "        'df': features_continuous.iloc[:n, :-10],\n",
    "        'indices': ['Feature {}'.format(i) for i in range(n)],\n",
    "        'index_aliases': ['Alias {}'.format(i) for i in range(n)],\n",
    "        'emphasis': 'low',\n",
    "        'data_type': 'continuous'\n",
    "    },\n",
    "    'Cotinuous features (missing first 10 & scores ascending)': {\n",
    "        'df': features_continuous.iloc[:n, 10:],\n",
    "        'indices': ['Feature {}'.format(i) for i in range(n)],\n",
    "        'index_aliases': ['Alias {}'.format(i) for i in range(n)],\n",
    "        'emphasis': 'low',\n",
    "        'data_type': 'continuous'\n",
    "    },\n",
    "}"
   ]
  },
  {
   "cell_type": "code",
   "execution_count": null,
   "metadata": {
    "ExecuteTime": {
     "end_time": "2018-03-12T08:33:14.628572Z",
     "start_time": "2018-03-12T08:33:11.699855Z"
    },
    "scrolled": false
   },
   "outputs": [],
   "source": [
    "make_summary_match_panel(\n",
    "    target, multiple_features, title='Default', plot_column_names=True)"
   ]
  },
  {
   "cell_type": "code",
   "execution_count": null,
   "metadata": {
    "ExecuteTime": {
     "end_time": "2018-03-12T08:33:18.801843Z",
     "start_time": "2018-03-12T08:33:14.631358Z"
    },
    "scrolled": false
   },
   "outputs": [],
   "source": [
    "make_summary_match_panel(\n",
    "    target,\n",
    "    multiple_features,\n",
    "    plot_only_columns_shared_by_target_and_all_features=True,\n",
    "    title='Only Columns Shared by Target and All Features',\n",
    "    plot_column_names=True)"
   ]
  },
  {
   "cell_type": "code",
   "execution_count": null,
   "metadata": {
    "ExecuteTime": {
     "end_time": "2018-03-12T08:33:19.562149Z",
     "start_time": "2018-03-12T08:33:18.804313Z"
    }
   },
   "outputs": [],
   "source": [
    "array_2d_0 = np.random.random_sample((n_row, 2))\n",
    "\n",
    "array_2d_1 = np.random.random_sample((n_row, 8))\n",
    "\n",
    "make_comparison_panel(\n",
    "    array_2d_0,\n",
    "    array_2d_1,\n",
    "    array_2d_0_name='ND Array 0',\n",
    "    array_2d_1_name='ND Array 1')"
   ]
  }
 ],
 "metadata": {
  "kernelspec": {
   "display_name": "Python 3",
   "language": "python",
   "name": "python3"
  },
  "language_info": {
   "codemirror_mode": {
    "name": "ipython",
    "version": 3
   },
   "file_extension": ".py",
   "mimetype": "text/x-python",
   "name": "python",
   "nbconvert_exporter": "python",
   "pygments_lexer": "ipython3",
   "version": "3.6.4"
  }
 },
 "nbformat": 4,
 "nbformat_minor": 2
}

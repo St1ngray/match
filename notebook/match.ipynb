{
 "cells": [
  {
   "cell_type": "code",
   "execution_count": 1,
   "metadata": {
    "ExecuteTime": {
     "end_time": "2018-03-12T08:32:56.999840Z",
     "start_time": "2018-03-12T08:32:56.972074Z"
    }
   },
   "outputs": [],
   "source": [
    "%load_ext autoreload\n",
    "%autoreload 2"
   ]
  },
  {
   "cell_type": "code",
   "execution_count": 2,
   "metadata": {
    "ExecuteTime": {
     "end_time": "2018-03-12T08:32:58.951766Z",
     "start_time": "2018-03-12T08:32:57.003357Z"
    }
   },
   "outputs": [],
   "source": [
    "import sys\n",
    "\n",
    "import numpy as np\n",
    "import pandas as pd\n",
    "\n",
    "sys.path.insert(0, '..')\n",
    "from match.make_match_panel import make_match_panel\n",
    "from match.make_summary_match_panel import make_summary_match_panel\n",
    "from match.make_comparison_panel import make_comparison_panel"
   ]
  },
  {
   "cell_type": "code",
   "execution_count": 3,
   "metadata": {
    "ExecuteTime": {
     "end_time": "2018-03-12T08:33:00.871025Z",
     "start_time": "2018-03-12T08:32:58.956205Z"
    }
   },
   "outputs": [
    {
     "name": "stdout",
     "output_type": "stream",
     "text": [
      "Dropping 0 axis-1 slices ...\n",
      "Computing match score with <function compute_information_coefficient at 0x11e968840> (1 process) ...\n",
      "Computing MoEs with 10 samplings ...\n",
      "\t1/10 ...\n",
      "\t4/10 ...\n",
      "\t7/10 ...\n",
      "\t10/10 ...\n",
      "Computing p-values and FDRs with 10 permutations ...\n",
      "\t1/10 ...\n",
      "\t4/10 ...\n",
      "\t7/10 ...\n",
      "\t10/10 ...\n"
     ]
    },
    {
     "data": {
      "text/html": [
       "<div>\n",
       "<style scoped>\n",
       "    .dataframe tbody tr th:only-of-type {\n",
       "        vertical-align: middle;\n",
       "    }\n",
       "\n",
       "    .dataframe tbody tr th {\n",
       "        vertical-align: top;\n",
       "    }\n",
       "\n",
       "    .dataframe thead th {\n",
       "        text-align: right;\n",
       "    }\n",
       "</style>\n",
       "<table border=\"1\" class=\"dataframe\">\n",
       "  <thead>\n",
       "    <tr style=\"text-align: right;\">\n",
       "      <th></th>\n",
       "      <th>Score</th>\n",
       "      <th>0.95 MoE</th>\n",
       "      <th>P-Value</th>\n",
       "      <th>FDR</th>\n",
       "    </tr>\n",
       "    <tr>\n",
       "      <th>Gene Set</th>\n",
       "      <th></th>\n",
       "      <th></th>\n",
       "      <th></th>\n",
       "      <th></th>\n",
       "    </tr>\n",
       "  </thead>\n",
       "  <tbody>\n",
       "    <tr>\n",
       "      <th>GO_14_3_3_PROTEIN_BINDING</th>\n",
       "      <td>0.523070</td>\n",
       "      <td>0.259900</td>\n",
       "      <td>0.100000</td>\n",
       "      <td>0.366667</td>\n",
       "    </tr>\n",
       "    <tr>\n",
       "      <th>ONGUSAHA_TP53_TARGETS</th>\n",
       "      <td>0.188894</td>\n",
       "      <td>0.231043</td>\n",
       "      <td>0.455556</td>\n",
       "      <td>0.820000</td>\n",
       "    </tr>\n",
       "    <tr>\n",
       "      <th>GO_NEURON_CELL_CELL_ADHESION</th>\n",
       "      <td>-0.658196</td>\n",
       "      <td>0.167719</td>\n",
       "      <td>0.033333</td>\n",
       "      <td>0.150000</td>\n",
       "    </tr>\n",
       "    <tr>\n",
       "      <th>GO_SH2_DOMAIN_BINDING</th>\n",
       "      <td>0.396716</td>\n",
       "      <td>0.210557</td>\n",
       "      <td>0.122222</td>\n",
       "      <td>0.366667</td>\n",
       "    </tr>\n",
       "    <tr>\n",
       "      <th>YAP signature based on cell NIH3T3_MCD10A in paper GENES &amp; DEVELOPMENT 22:1962–1971 2008</th>\n",
       "      <td>0.865167</td>\n",
       "      <td>0.160649</td>\n",
       "      <td>0.011111</td>\n",
       "      <td>0.100000</td>\n",
       "    </tr>\n",
       "    <tr>\n",
       "      <th>YAP signature based on mechanism</th>\n",
       "      <td>-0.865856</td>\n",
       "      <td>0.173882</td>\n",
       "      <td>0.011111</td>\n",
       "      <td>0.100000</td>\n",
       "    </tr>\n",
       "    <tr>\n",
       "      <th>BIOCARTA_RHO_PATHWAY</th>\n",
       "      <td>-0.373638</td>\n",
       "      <td>0.185910</td>\n",
       "      <td>0.100000</td>\n",
       "      <td>0.225000</td>\n",
       "    </tr>\n",
       "    <tr>\n",
       "      <th>VANTVEER_BREAST_CANCER_BRCA1_UP</th>\n",
       "      <td>-0.404066</td>\n",
       "      <td>0.258884</td>\n",
       "      <td>0.077778</td>\n",
       "      <td>0.225000</td>\n",
       "    </tr>\n",
       "    <tr>\n",
       "      <th>YAP signature based on cell HEK293 in paper Cell 150, 780–791, August 17, 2012</th>\n",
       "      <td>0.283160</td>\n",
       "      <td>0.246852</td>\n",
       "      <td>0.300000</td>\n",
       "      <td>0.675000</td>\n",
       "    </tr>\n",
       "  </tbody>\n",
       "</table>\n",
       "</div>"
      ],
      "text/plain": [
       "                                                       Score  0.95 MoE  \\\n",
       "Gene Set                                                                 \n",
       "GO_14_3_3_PROTEIN_BINDING                           0.523070  0.259900   \n",
       "ONGUSAHA_TP53_TARGETS                               0.188894  0.231043   \n",
       "GO_NEURON_CELL_CELL_ADHESION                       -0.658196  0.167719   \n",
       "GO_SH2_DOMAIN_BINDING                               0.396716  0.210557   \n",
       "YAP signature based on cell NIH3T3_MCD10A in pa...  0.865167  0.160649   \n",
       "YAP signature based on mechanism                   -0.865856  0.173882   \n",
       "BIOCARTA_RHO_PATHWAY                               -0.373638  0.185910   \n",
       "VANTVEER_BREAST_CANCER_BRCA1_UP                    -0.404066  0.258884   \n",
       "YAP signature based on cell HEK293 in paper Cel...  0.283160  0.246852   \n",
       "\n",
       "                                                     P-Value       FDR  \n",
       "Gene Set                                                                \n",
       "GO_14_3_3_PROTEIN_BINDING                           0.100000  0.366667  \n",
       "ONGUSAHA_TP53_TARGETS                               0.455556  0.820000  \n",
       "GO_NEURON_CELL_CELL_ADHESION                        0.033333  0.150000  \n",
       "GO_SH2_DOMAIN_BINDING                               0.122222  0.366667  \n",
       "YAP signature based on cell NIH3T3_MCD10A in pa...  0.011111  0.100000  \n",
       "YAP signature based on mechanism                    0.011111  0.100000  \n",
       "BIOCARTA_RHO_PATHWAY                                0.100000  0.225000  \n",
       "VANTVEER_BREAST_CANCER_BRCA1_UP                     0.077778  0.225000  \n",
       "YAP signature based on cell HEK293 in paper Cel...  0.300000  0.675000  "
      ]
     },
     "execution_count": 3,
     "metadata": {},
     "output_type": "execute_result"
    },
    {
     "data": {
      "image/png": "[encoded data removed]",
      "text/plain": [
       "<Figure size 720x648 with 4 Axes>"
      ]
     },
     "metadata": {},
     "output_type": "display_data"
    }
   ],
   "source": [
    "features = pd.read_table('gene_set_x_sample.tsv', index_col=0)\n",
    "\n",
    "target = pd.Series(\n",
    "    (0, ) * 3 + (1, ) * 3, name='Target', index=features.columns)\n",
    "target.index.name = 'Index Name (should not be plotted)'\n",
    "\n",
    "make_match_panel(\n",
    "    target,\n",
    "    features,\n",
    "    target_ascending=True,\n",
    "    cluster_within_category=False,\n",
    "    target_type='binary',\n",
    "    n_sampling=10,\n",
    "    n_permutation=10,\n",
    "    target_xticklabels=('C', ) * 3 + ('T', ) * 3,\n",
    "    plot_column_names=True)"
   ]
  },
  {
   "cell_type": "code",
   "execution_count": null,
   "metadata": {
    "ExecuteTime": {
     "end_time": "2018-03-12T08:33:02.678129Z",
     "start_time": "2018-03-12T08:33:00.873944Z"
    },
    "scrolled": false
   },
   "outputs": [
    {
     "name": "stdout",
     "output_type": "stream",
     "text": [
      "Dropping 0 axis-1 slices ...\n",
      "Computing match score with <function compute_information_coefficient at 0x11e968840> (1 process) ...\n"
     ]
    },
    {
     "name": "stderr",
     "output_type": "stream",
     "text": [
      "../match/nd_array/nd_array/check_nd_array_for_bad_value.py:27: UserWarning: nd_array has 6 bad values (nan).\n",
      "  warn(message)\n",
      "../match/nd_array/nd_array/check_nd_array_for_bad_value.py:27: UserWarning: nd_array has 2 bad values (nan).\n",
      "  warn(message)\n",
      "../match/nd_array/nd_array/check_nd_array_for_bad_value.py:27: UserWarning: nd_array has 10 bad values (nan).\n",
      "  warn(message)\n",
      "../match/nd_array/nd_array/check_nd_array_for_bad_value.py:27: UserWarning: nd_array has 1 bad value (nan).\n",
      "  warn(message)\n"
     ]
    }
   ],
   "source": [
    "target = pd.read_table('target.tsv', index_col=0, header=None, squeeze=True)\n",
    "target.name = 'Target Name'\n",
    "\n",
    "features = pd.read_table('features.tsv', index_col=0)\n",
    "\n",
    "make_match_panel(\n",
    "    target, features, min_n_sample=3, n_top_feature=3, max_n_feature=5)"
   ]
  },
  {
   "cell_type": "code",
   "execution_count": null,
   "metadata": {
    "ExecuteTime": {
     "end_time": "2018-03-12T08:33:02.739975Z",
     "start_time": "2018-03-12T08:33:02.686141Z"
    }
   },
   "outputs": [],
   "source": [
    "n_row = 100\n",
    "n_column = 100"
   ]
  },
  {
   "cell_type": "code",
   "execution_count": null,
   "metadata": {
    "ExecuteTime": {
     "end_time": "2018-03-12T08:33:04.350160Z",
     "start_time": "2018-03-12T08:33:02.743238Z"
    },
    "scrolled": false
   },
   "outputs": [],
   "source": [
    "target = pd.Series(\n",
    "    np.random.random_sample(n_column),\n",
    "    name='Target Name',\n",
    "    index=('Sample {}'.format(i) for i in range(n_column)))\n",
    "\n",
    "features_continuous = pd.DataFrame(\n",
    "    np.random.random_sample((n_row, n_column)),\n",
    "    index=('Feature {}'.format(i) for i in range(n_row)),\n",
    "    columns=('Sample {}'.format(i) for i in range(n_column)))\n",
    "\n",
    "make_match_panel(target, features_continuous)"
   ]
  },
  {
   "cell_type": "code",
   "execution_count": null,
   "metadata": {
    "ExecuteTime": {
     "end_time": "2018-03-12T08:33:06.003887Z",
     "start_time": "2018-03-12T08:33:04.353300Z"
    },
    "scrolled": false
   },
   "outputs": [],
   "source": [
    "features_categorical = pd.DataFrame(\n",
    "    np.random.random_integers(0, 5, size=(n_row, n_column)),\n",
    "    index=('Feature {}'.format(i) for i in range(n_row)),\n",
    "    columns=('Sample {}'.format(i) for i in range(n_column)))\n",
    "\n",
    "make_match_panel(target, features_categorical, features_type='categorical')"
   ]
  },
  {
   "cell_type": "code",
   "execution_count": null,
   "metadata": {
    "ExecuteTime": {
     "end_time": "2018-03-12T08:33:07.581518Z",
     "start_time": "2018-03-12T08:33:06.008714Z"
    },
    "scrolled": false
   },
   "outputs": [],
   "source": [
    "features_binary = pd.DataFrame(\n",
    "    np.random.random_integers(0, 1, size=(n_row, n_column)),\n",
    "    index=('Feature {}'.format(i) for i in range(n_row)),\n",
    "    columns=('Sample {}'.format(i) for i in range(n_column)))\n",
    "\n",
    "make_match_panel(target, features_binary, features_type='binary')"
   ]
  },
  {
   "cell_type": "code",
   "execution_count": null,
   "metadata": {
    "ExecuteTime": {
     "end_time": "2018-03-12T08:33:09.249531Z",
     "start_time": "2018-03-12T08:33:07.584740Z"
    },
    "scrolled": false
   },
   "outputs": [],
   "source": [
    "features_with_missing = features_continuous.copy()\n",
    "features_with_missing.loc[\n",
    "    np.random.choice(features_with_missing.index, size=n_column // 3),\n",
    "    np.random.choice(features_with_missing.columns, size=n_column // 3)] = None\n",
    "\n",
    "make_match_panel(target, features_with_missing)"
   ]
  },
  {
   "cell_type": "code",
   "execution_count": null,
   "metadata": {
    "ExecuteTime": {
     "end_time": "2018-03-12T08:33:11.592766Z",
     "start_time": "2018-03-12T08:33:09.253946Z"
    },
    "scrolled": false
   },
   "outputs": [],
   "source": [
    "features = pd.DataFrame(\n",
    "    np.random.random_sample((n_row, 9)),\n",
    "    index=('Feature {}'.format(i) for i in range(n_row)),\n",
    "    columns=('Sample {}'.format(i) for i in range(9)))\n",
    "\n",
    "target = pd.Series(\n",
    "    (0, 0, 0, 1, 1, 1, 0, 0, 0), name='Target Name', index=features.columns)\n",
    "\n",
    "make_match_panel(\n",
    "    target,\n",
    "    features,\n",
    "    target_ascending=None,\n",
    "    cluster_within_category=True,\n",
    "    target_type='binary',\n",
    "    min_n_sample=3,\n",
    "    target_xticklabels=('Low', 'Low', 'Low', 'High', 'High', 'High', 'Low',\n",
    "                        'Low', 'Low'),\n",
    "    plot_column_names=True)"
   ]
  },
  {
   "cell_type": "code",
   "execution_count": null,
   "metadata": {
    "ExecuteTime": {
     "end_time": "2018-03-12T08:33:11.697009Z",
     "start_time": "2018-03-12T08:33:11.595984Z"
    }
   },
   "outputs": [],
   "source": [
    "target = pd.Series(\n",
    "    np.random.random_sample(n_column),\n",
    "    name='Target Name',\n",
    "    index=('Sample {}'.format(i) for i in range(n_column)))\n",
    "\n",
    "features_continuous = pd.DataFrame(\n",
    "    np.random.random_sample((n_row, n_column)),\n",
    "    index=('Feature {}'.format(i) for i in range(n_row)),\n",
    "    columns=('Sample {}'.format(i) for i in range(n_column)))\n",
    "\n",
    "n = 3\n",
    "\n",
    "multiple_features = {\n",
    "    'Continuous features': {\n",
    "        'df': features_continuous.iloc[:n, :],\n",
    "        'indices': ['Feature {}'.format(i) for i in range(n)],\n",
    "        'index_aliases': ['Alias {}'.format(i) for i in range(n)],\n",
    "        'emphasis': 'high',\n",
    "        'data_type': 'continuous'\n",
    "    },\n",
    "    'Categorical features': {\n",
    "        'df': features_categorical.iloc[:n, :],\n",
    "        'indices': ['Feature {}'.format(i) for i in range(n)],\n",
    "        'index_aliases': ['Alias {}'.format(i) for i in range(n)],\n",
    "        'emphasis': 'high',\n",
    "        'data_type': 'categorical'\n",
    "    },\n",
    "    'Binary features': {\n",
    "        'df': features_binary.iloc[:n, :],\n",
    "        'indices': ['Feature {}'.format(i) for i in range(n)],\n",
    "        'index_aliases': ['Alias {}'.format(i) for i in range(n)],\n",
    "        'emphasis': 'high',\n",
    "        'data_type': 'binary'\n",
    "    },\n",
    "    'Cotinuous features (missing last 10 & scores ascending)': {\n",
    "        'df': features_continuous.iloc[:n, :-10],\n",
    "        'indices': ['Feature {}'.format(i) for i in range(n)],\n",
    "        'index_aliases': ['Alias {}'.format(i) for i in range(n)],\n",
    "        'emphasis': 'low',\n",
    "        'data_type': 'continuous'\n",
    "    },\n",
    "    'Cotinuous features (missing first 10 & scores ascending)': {\n",
    "        'df': features_continuous.iloc[:n, 10:],\n",
    "        'indices': ['Feature {}'.format(i) for i in range(n)],\n",
    "        'index_aliases': ['Alias {}'.format(i) for i in range(n)],\n",
    "        'emphasis': 'low',\n",
    "        'data_type': 'continuous'\n",
    "    },\n",
    "}"
   ]
  },
  {
   "cell_type": "code",
   "execution_count": null,
   "metadata": {
    "ExecuteTime": {
     "end_time": "2018-03-12T08:33:14.628572Z",
     "start_time": "2018-03-12T08:33:11.699855Z"
    },
    "scrolled": false
   },
   "outputs": [],
   "source": [
    "make_summary_match_panel(\n",
    "    target, multiple_features, title='Default', plot_column_names=True)"
   ]
  },
  {
   "cell_type": "code",
   "execution_count": null,
   "metadata": {
    "ExecuteTime": {
     "end_time": "2018-03-12T08:33:18.801843Z",
     "start_time": "2018-03-12T08:33:14.631358Z"
    },
    "scrolled": false
   },
   "outputs": [],
   "source": [
    "make_summary_match_panel(\n",
    "    target,\n",
    "    multiple_features,\n",
    "    plot_only_columns_shared_by_target_and_all_features=True,\n",
    "    title='Only Columns Shared by Target and All Features',\n",
    "    plot_column_names=True)"
   ]
  },
  {
   "cell_type": "code",
   "execution_count": null,
   "metadata": {
    "ExecuteTime": {
     "end_time": "2018-03-12T08:33:19.562149Z",
     "start_time": "2018-03-12T08:33:18.804313Z"
    }
   },
   "outputs": [],
   "source": [
    "array_2d_0 = np.random.random_sample((n_row, 2))\n",
    "\n",
    "array_2d_1 = np.random.random_sample((n_row, 8))\n",
    "\n",
    "make_comparison_panel(\n",
    "    array_2d_0,\n",
    "    array_2d_1,\n",
    "    array_2d_0_name='ND Array 0',\n",
    "    array_2d_1_name='ND Array 1')"
   ]
  }
 ],
 "metadata": {
  "kernelspec": {
   "display_name": "Python 3",
   "language": "python",
   "name": "python3"
  },
  "language_info": {
   "codemirror_mode": {
    "name": "ipython",
    "version": 3
   },
   "file_extension": ".py",
   "mimetype": "text/x-python",
   "name": "python",
   "nbconvert_exporter": "python",
   "pygments_lexer": "ipython3",
   "version": "3.6.4"
  }
 },
 "nbformat": 4,
 "nbformat_minor": 2
}

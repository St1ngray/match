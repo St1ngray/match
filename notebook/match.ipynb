{
 "cells": [
  {
   "cell_type": "code",
   "execution_count": 1,
   "metadata": {
    "ExecuteTime": {
     "end_time": "2018-03-05T04:41:45.636973Z",
     "start_time": "2018-03-05T04:41:45.598601Z"
    }
   },
   "outputs": [],
   "source": [
    "%load_ext autoreload\n",
    "%autoreload 2"
   ]
  },
  {
   "cell_type": "code",
   "execution_count": 2,
   "metadata": {
    "ExecuteTime": {
     "end_time": "2018-03-05T04:41:47.464135Z",
     "start_time": "2018-03-05T04:41:45.640895Z"
    }
   },
   "outputs": [],
   "source": [
    "import sys\n",
    "\n",
    "import numpy as np\n",
    "import pandas as pd\n",
    "\n",
    "sys.path.insert(0, '..')\n",
    "from match.make_match_panel import make_match_panel\n",
    "from match.make_summary_match_panel import make_summary_match_panel\n",
    "from match.make_comparison_panel import make_comparison_panel"
   ]
  },
  {
   "cell_type": "code",
   "execution_count": 3,
   "metadata": {
    "ExecuteTime": {
     "end_time": "2018-03-05T04:41:50.839582Z",
     "start_time": "2018-03-05T04:41:47.467799Z"
    }
   },
   "outputs": [
    {
     "name": "stdout",
     "output_type": "stream",
     "text": [
      "Dropping 0 axis-1 slices ...\n",
      "Computing match score with <function compute_information_coefficient at 0x1201fbea0> (1 process) ...\n",
      "Computing MoEs with 10 samplings ...\n",
      "\t1/10 ...\n",
      "\t4/10 ...\n",
      "\t7/10 ...\n",
      "\t10/10 ...\n",
      "\t10/10 - done.\n",
      "Computing p-values and FDRs with 10 permutations ...\n",
      "\t1/10 ...\n",
      "\t4/10 ...\n",
      "\t7/10 ...\n",
      "\t10/10 ...\n",
      "\t10/10 - done.\n"
     ]
    },
    {
     "data": {
      "text/html": [
       "<div>\n",
       "<style scoped>\n",
       "    .dataframe tbody tr th:only-of-type {\n",
       "        vertical-align: middle;\n",
       "    }\n",
       "\n",
       "    .dataframe tbody tr th {\n",
       "        vertical-align: top;\n",
       "    }\n",
       "\n",
       "    .dataframe thead th {\n",
       "        text-align: right;\n",
       "    }\n",
       "</style>\n",
       "<table border=\"1\" class=\"dataframe\">\n",
       "  <thead>\n",
       "    <tr style=\"text-align: right;\">\n",
       "      <th></th>\n",
       "      <th>Score</th>\n",
       "      <th>0.95 MoE</th>\n",
       "      <th>P-Value</th>\n",
       "      <th>FDR</th>\n",
       "    </tr>\n",
       "    <tr>\n",
       "      <th>Gene Set</th>\n",
       "      <th></th>\n",
       "      <th></th>\n",
       "      <th></th>\n",
       "      <th></th>\n",
       "    </tr>\n",
       "  </thead>\n",
       "  <tbody>\n",
       "    <tr>\n",
       "      <th>GO_14_3_3_PROTEIN_BINDING</th>\n",
       "      <td>0.523070</td>\n",
       "      <td>0.185265</td>\n",
       "      <td>0.133333</td>\n",
       "      <td>0.533333</td>\n",
       "    </tr>\n",
       "    <tr>\n",
       "      <th>ONGUSAHA_TP53_TARGETS</th>\n",
       "      <td>0.188894</td>\n",
       "      <td>0.235369</td>\n",
       "      <td>0.466667</td>\n",
       "      <td>0.840000</td>\n",
       "    </tr>\n",
       "    <tr>\n",
       "      <th>GO_NEURON_CELL_CELL_ADHESION</th>\n",
       "      <td>-0.658196</td>\n",
       "      <td>0.188221</td>\n",
       "      <td>0.022222</td>\n",
       "      <td>0.100000</td>\n",
       "    </tr>\n",
       "    <tr>\n",
       "      <th>GO_SH2_DOMAIN_BINDING</th>\n",
       "      <td>0.396716</td>\n",
       "      <td>0.167085</td>\n",
       "      <td>0.177778</td>\n",
       "      <td>0.533333</td>\n",
       "    </tr>\n",
       "    <tr>\n",
       "      <th>YAP signature based on cell NIH3T3_MCD10A in paper GENES &amp; DEVELOPMENT 22:1962–1971 2008</th>\n",
       "      <td>0.865167</td>\n",
       "      <td>0.172696</td>\n",
       "      <td>0.011111</td>\n",
       "      <td>0.100000</td>\n",
       "    </tr>\n",
       "    <tr>\n",
       "      <th>YAP signature based on mechanism</th>\n",
       "      <td>-0.865856</td>\n",
       "      <td>0.160829</td>\n",
       "      <td>0.011111</td>\n",
       "      <td>0.100000</td>\n",
       "    </tr>\n",
       "    <tr>\n",
       "      <th>BIOCARTA_RHO_PATHWAY</th>\n",
       "      <td>-0.373638</td>\n",
       "      <td>0.167837</td>\n",
       "      <td>0.111111</td>\n",
       "      <td>0.250000</td>\n",
       "    </tr>\n",
       "    <tr>\n",
       "      <th>VANTVEER_BREAST_CANCER_BRCA1_UP</th>\n",
       "      <td>-0.404066</td>\n",
       "      <td>0.279272</td>\n",
       "      <td>0.088889</td>\n",
       "      <td>0.250000</td>\n",
       "    </tr>\n",
       "    <tr>\n",
       "      <th>YAP signature based on cell HEK293 in paper Cell 150, 780–791, August 17, 2012</th>\n",
       "      <td>0.283160</td>\n",
       "      <td>0.304364</td>\n",
       "      <td>0.300000</td>\n",
       "      <td>0.675000</td>\n",
       "    </tr>\n",
       "  </tbody>\n",
       "</table>\n",
       "</div>"
      ],
      "text/plain": [
       "                                                       Score  0.95 MoE  \\\n",
       "Gene Set                                                                 \n",
       "GO_14_3_3_PROTEIN_BINDING                           0.523070  0.185265   \n",
       "ONGUSAHA_TP53_TARGETS                               0.188894  0.235369   \n",
       "GO_NEURON_CELL_CELL_ADHESION                       -0.658196  0.188221   \n",
       "GO_SH2_DOMAIN_BINDING                               0.396716  0.167085   \n",
       "YAP signature based on cell NIH3T3_MCD10A in pa...  0.865167  0.172696   \n",
       "YAP signature based on mechanism                   -0.865856  0.160829   \n",
       "BIOCARTA_RHO_PATHWAY                               -0.373638  0.167837   \n",
       "VANTVEER_BREAST_CANCER_BRCA1_UP                    -0.404066  0.279272   \n",
       "YAP signature based on cell HEK293 in paper Cel...  0.283160  0.304364   \n",
       "\n",
       "                                                     P-Value       FDR  \n",
       "Gene Set                                                                \n",
       "GO_14_3_3_PROTEIN_BINDING                           0.133333  0.533333  \n",
       "ONGUSAHA_TP53_TARGETS                               0.466667  0.840000  \n",
       "GO_NEURON_CELL_CELL_ADHESION                        0.022222  0.100000  \n",
       "GO_SH2_DOMAIN_BINDING                               0.177778  0.533333  \n",
       "YAP signature based on cell NIH3T3_MCD10A in pa...  0.011111  0.100000  \n",
       "YAP signature based on mechanism                    0.011111  0.100000  \n",
       "BIOCARTA_RHO_PATHWAY                                0.111111  0.250000  \n",
       "VANTVEER_BREAST_CANCER_BRCA1_UP                     0.088889  0.250000  \n",
       "YAP signature based on cell HEK293 in paper Cel...  0.300000  0.675000  "
      ]
     },
     "execution_count": 3,
     "metadata": {},
     "output_type": "execute_result"
    },
    {
     "data": {
      "image/png": "[encoded data removed]",
      "text/plain": [
       "<matplotlib.figure.Figure at 0x121372c50>"
      ]
     },
     "metadata": {},
     "output_type": "display_data"
    }
   ],
   "source": [
    "features = pd.read_table('gene_set_x_sample.tsv', index_col=0)\n",
    "\n",
    "target = pd.Series(\n",
    "    (0, ) * 3 + (1, ) * 3, name='Target', index=features.columns)\n",
    "target.index.name = 'Index Name (should not be plotted)'\n",
    "\n",
    "make_match_panel(\n",
    "    target,\n",
    "    features,\n",
    "    target_ascending=True,\n",
    "    target_type='binary',\n",
    "    target_xticklabels=('C', ) * 3 + ('T', ) * 3,\n",
    "    file_path_prefix='file_path_prefix')"
   ]
  },
  {
   "cell_type": "code",
   "execution_count": 4,
   "metadata": {
    "ExecuteTime": {
     "end_time": "2018-03-05T04:41:53.236628Z",
     "start_time": "2018-03-05T04:41:50.843370Z"
    },
    "scrolled": false
   },
   "outputs": [
    {
     "name": "stdout",
     "output_type": "stream",
     "text": [
      "Dropping 0 axis-1 slices ...\n",
      "Computing match score with <function compute_information_coefficient at 0x1201fbea0> (1 process) ...\n",
      "There is less than 5 samples after dropping nans.\n",
      "There is less than 5 samples after dropping nans.\n",
      "There is less than 5 samples after dropping nans.\n",
      "There is less than 5 samples after dropping nans.\n",
      "There is less than 5 samples after dropping nans.\n",
      "There is less than 5 samples after dropping nans.\n",
      "There is less than 5 samples after dropping nans.\n",
      "There is less than 5 samples after dropping nans.\n",
      "There is less than 5 samples after dropping nans.\n",
      "There is less than 5 samples after dropping nans.\n",
      "There is less than 5 samples after dropping nans.\n"
     ]
    },
    {
     "ename": "ValueError",
     "evalue": "Cannot normalize array_2d because it has nan.",
     "output_type": "error",
     "traceback": [
      "\u001b[0;31m---------------------------------------------------------------------------\u001b[0m",
      "\u001b[0;31mValueError\u001b[0m                                Traceback (most recent call last)",
      "\u001b[0;32m<ipython-input-4-ffb4613f46b1>\u001b[0m in \u001b[0;36m<module>\u001b[0;34m()\u001b[0m\n\u001b[1;32m     10\u001b[0m     \u001b[0mmax_n_feature\u001b[0m\u001b[0;34m=\u001b[0m\u001b[0;36m5\u001b[0m\u001b[0;34m,\u001b[0m\u001b[0;34m\u001b[0m\u001b[0m\n\u001b[1;32m     11\u001b[0m     \u001b[0mn_sampling\u001b[0m\u001b[0;34m=\u001b[0m\u001b[0;36m0\u001b[0m\u001b[0;34m,\u001b[0m\u001b[0;34m\u001b[0m\u001b[0m\n\u001b[0;32m---> 12\u001b[0;31m     n_permutation=0)\n\u001b[0m",
      "\u001b[0;32m~/Jumis/github_kwatme/match/match/make_match_panel.py\u001b[0m in \u001b[0;36mmake_match_panel\u001b[0;34m(target, features, target_ascending, scores, min_n_sample, match_function, random_seed, n_job, scores_ascending, indices, n_top_feature, max_n_feature, n_sampling, n_permutation, target_type, features_type, plot_max_std, title, target_xticklabels, max_ytick_size, plot_column_names, file_path_prefix)\u001b[0m\n\u001b[1;32m    141\u001b[0m                      \u001b[0mplot_max_std\u001b[0m\u001b[0;34m,\u001b[0m \u001b[0;32mNone\u001b[0m\u001b[0;34m,\u001b[0m \u001b[0;32mNone\u001b[0m\u001b[0;34m,\u001b[0m \u001b[0mtitle\u001b[0m\u001b[0;34m,\u001b[0m \u001b[0mtarget_xticklabels\u001b[0m\u001b[0;34m,\u001b[0m\u001b[0;34m\u001b[0m\u001b[0m\n\u001b[1;32m    142\u001b[0m                      \u001b[0mmax_ytick_size\u001b[0m\u001b[0;34m,\u001b[0m \u001b[0mannotations\u001b[0m\u001b[0;34m,\u001b[0m \u001b[0mplot_column_names\u001b[0m\u001b[0;34m,\u001b[0m\u001b[0;34m\u001b[0m\u001b[0m\n\u001b[0;32m--> 143\u001b[0;31m                      file_path_plot)\n\u001b[0m\u001b[1;32m    144\u001b[0m \u001b[0;34m\u001b[0m\u001b[0m\n\u001b[1;32m    145\u001b[0m     \u001b[0;32mreturn\u001b[0m \u001b[0mscores\u001b[0m\u001b[0;34m\u001b[0m\u001b[0m\n",
      "\u001b[0;32m~/Jumis/github_kwatme/match/match/plot_match_panel.py\u001b[0m in \u001b[0;36mplot_match_panel\u001b[0;34m(target, features, target_type, features_type, plot_max_std, target_ax, features_ax, title, target_xticklabels, max_ytick_size, annotations, plot_column_names, file_path)\u001b[0m\n\u001b[1;32m     65\u001b[0m     \u001b[0;32mif\u001b[0m \u001b[0mfeatures_type\u001b[0m \u001b[0;34m==\u001b[0m \u001b[0;34m'continuous'\u001b[0m\u001b[0;34m:\u001b[0m\u001b[0;34m\u001b[0m\u001b[0m\n\u001b[1;32m     66\u001b[0m         features = DataFrame(\n\u001b[0;32m---> 67\u001b[0;31m             normalize_2d_array(features.values, method='-0-', axis=1).clip(\n\u001b[0m\u001b[1;32m     68\u001b[0m                 -plot_max_std, plot_max_std),\n\u001b[1;32m     69\u001b[0m             \u001b[0mindex\u001b[0m\u001b[0;34m=\u001b[0m\u001b[0mfeatures\u001b[0m\u001b[0;34m.\u001b[0m\u001b[0mindex\u001b[0m\u001b[0;34m,\u001b[0m\u001b[0;34m\u001b[0m\u001b[0m\n",
      "\u001b[0;32m~/Jumis/github_kwatme/match/match/nd_array/nd_array/normalize_2d_array.py\u001b[0m in \u001b[0;36mnormalize_2d_array\u001b[0;34m(array_2d, method, axis, rank_method)\u001b[0m\n\u001b[1;32m     18\u001b[0m \u001b[0;34m\u001b[0m\u001b[0m\n\u001b[1;32m     19\u001b[0m     \u001b[0;32mif\u001b[0m \u001b[0misnan\u001b[0m\u001b[0;34m(\u001b[0m\u001b[0marray_2d\u001b[0m\u001b[0;34m)\u001b[0m\u001b[0;34m.\u001b[0m\u001b[0many\u001b[0m\u001b[0;34m(\u001b[0m\u001b[0;34m)\u001b[0m\u001b[0;34m:\u001b[0m\u001b[0;34m\u001b[0m\u001b[0m\n\u001b[0;32m---> 20\u001b[0;31m         \u001b[0;32mraise\u001b[0m \u001b[0mValueError\u001b[0m\u001b[0;34m(\u001b[0m\u001b[0;34m'Cannot normalize array_2d because it has nan.'\u001b[0m\u001b[0;34m)\u001b[0m\u001b[0;34m\u001b[0m\u001b[0m\n\u001b[0m\u001b[1;32m     21\u001b[0m \u001b[0;34m\u001b[0m\u001b[0m\n\u001b[1;32m     22\u001b[0m     \u001b[0;32mif\u001b[0m \u001b[0maxis\u001b[0m \u001b[0;32mis\u001b[0m \u001b[0;32mNone\u001b[0m\u001b[0;34m:\u001b[0m\u001b[0;34m\u001b[0m\u001b[0m\n",
      "\u001b[0;31mValueError\u001b[0m: Cannot normalize array_2d because it has nan."
     ]
    }
   ],
   "source": [
    "target = pd.read_table('target.tsv', index_col=0, header=None, squeeze=True)\n",
    "target.name = 'Target Name'\n",
    "\n",
    "features = pd.read_table('features.tsv', index_col=0)\n",
    "\n",
    "make_match_panel(\n",
    "    target,\n",
    "    features,\n",
    "    n_top_feature=3,\n",
    "    max_n_feature=5,\n",
    "    n_sampling=0,\n",
    "    n_permutation=0)"
   ]
  },
  {
   "cell_type": "code",
   "execution_count": null,
   "metadata": {
    "ExecuteTime": {
     "end_time": "2018-03-05T04:41:53.238732Z",
     "start_time": "2018-03-05T04:41:45.615Z"
    }
   },
   "outputs": [],
   "source": [
    "n_row = 100\n",
    "n_column = 100"
   ]
  },
  {
   "cell_type": "code",
   "execution_count": null,
   "metadata": {
    "ExecuteTime": {
     "end_time": "2018-03-05T04:41:53.240883Z",
     "start_time": "2018-03-05T04:41:45.630Z"
    },
    "scrolled": false
   },
   "outputs": [],
   "source": [
    "target = pd.Series(\n",
    "    np.random.random_sample(n_column),\n",
    "    name='Target Name',\n",
    "    index=('Sample {}'.format(i) for i in range(n_column)))\n",
    "\n",
    "features_continuous = pd.DataFrame(\n",
    "    np.random.random_sample((\n",
    "        n_row,\n",
    "        n_column, )),\n",
    "    index=('Feature {}'.format(i) for i in range(n_row)),\n",
    "    columns=('Sample {}'.format(i) for i in range(n_column)))\n",
    "\n",
    "make_match_panel(target, features_continuous)"
   ]
  },
  {
   "cell_type": "code",
   "execution_count": null,
   "metadata": {
    "ExecuteTime": {
     "end_time": "2018-03-05T04:41:53.242775Z",
     "start_time": "2018-03-05T04:41:45.648Z"
    },
    "scrolled": false
   },
   "outputs": [],
   "source": [
    "features_categorical = pd.DataFrame(\n",
    "    np.random.random_integers(0, 5, size=(\n",
    "        n_row,\n",
    "        n_column, )),\n",
    "    index=('Feature {}'.format(i) for i in range(n_row)),\n",
    "    columns=('Sample {}'.format(i) for i in range(n_column)))\n",
    "\n",
    "make_match_panel(target, features_categorical, features_type='categorical')"
   ]
  },
  {
   "cell_type": "code",
   "execution_count": null,
   "metadata": {
    "ExecuteTime": {
     "end_time": "2018-03-05T04:41:53.246871Z",
     "start_time": "2018-03-05T04:41:45.670Z"
    },
    "scrolled": false
   },
   "outputs": [],
   "source": [
    "features_binary = pd.DataFrame(\n",
    "    np.random.random_integers(0, 1, size=(\n",
    "        n_row,\n",
    "        n_column, )),\n",
    "    index=('Feature {}'.format(i) for i in range(n_row)),\n",
    "    columns=('Sample {}'.format(i) for i in range(n_column)))\n",
    "\n",
    "make_match_panel(target, features_binary, features_type='binary')"
   ]
  },
  {
   "cell_type": "code",
   "execution_count": null,
   "metadata": {
    "ExecuteTime": {
     "end_time": "2018-03-05T04:41:53.250007Z",
     "start_time": "2018-03-05T04:41:45.680Z"
    },
    "scrolled": false
   },
   "outputs": [],
   "source": [
    "features_with_missing = features_continuous.copy()\n",
    "features_with_missing.loc[\n",
    "    np.random.choice(features_with_missing.index, size=n_column // 3),\n",
    "    np.random.choice(features_with_missing.columns, size=n_column // 3)] = None\n",
    "\n",
    "make_match_panel(target, features_with_missing)"
   ]
  },
  {
   "cell_type": "code",
   "execution_count": null,
   "metadata": {
    "ExecuteTime": {
     "end_time": "2018-03-05T04:41:53.252117Z",
     "start_time": "2018-03-05T04:41:45.688Z"
    },
    "scrolled": false
   },
   "outputs": [],
   "source": [
    "features = pd.DataFrame(\n",
    "    np.random.random_sample((\n",
    "        n_row,\n",
    "        3, )),\n",
    "    index=('Feature {}'.format(i) for i in range(n_row)),\n",
    "    columns=('Sample {}'.format(i) for i in range(3)))\n",
    "\n",
    "target = pd.Series(\n",
    "    (\n",
    "        0,\n",
    "        1,\n",
    "        0, ), name='Target Name', index=features.columns)\n",
    "\n",
    "make_match_panel(\n",
    "    target,\n",
    "    features,\n",
    "    target_ascending=None,\n",
    "    target_type='binary',\n",
    "    min_n_sample=3,\n",
    "    target_xticklabels=(\n",
    "        'Low',\n",
    "        'High',\n",
    "        'Low', ))"
   ]
  },
  {
   "cell_type": "code",
   "execution_count": null,
   "metadata": {
    "ExecuteTime": {
     "end_time": "2018-03-05T04:41:53.254558Z",
     "start_time": "2018-03-05T04:41:45.690Z"
    }
   },
   "outputs": [],
   "source": [
    "target = pd.Series(\n",
    "    np.random.random_sample(n_column),\n",
    "    name='Target Name',\n",
    "    index=('Sample {}'.format(i) for i in range(n_column)))\n",
    "\n",
    "features_continuous = pd.DataFrame(\n",
    "    np.random.random_sample((\n",
    "        n_row,\n",
    "        n_column, )),\n",
    "    index=('Feature {}'.format(i) for i in range(n_row)),\n",
    "    columns=('Sample {}'.format(i) for i in range(n_column)))\n",
    "\n",
    "n = 3\n",
    "\n",
    "multiple_features = {\n",
    "    'Continuous features': {\n",
    "        'df': features_continuous.iloc[:n, :],\n",
    "        'indices': ['Feature {}'.format(i) for i in range(n)],\n",
    "        'index_aliases': ['Alias {}'.format(i) for i in range(n)],\n",
    "        'emphasis': 'high',\n",
    "        'data_type': 'continuous',\n",
    "    },\n",
    "    'Categorical features': {\n",
    "        'df': features_categorical.iloc[:n, :],\n",
    "        'indices': ['Feature {}'.format(i) for i in range(n)],\n",
    "        'index_aliases': ['Alias {}'.format(i) for i in range(n)],\n",
    "        'emphasis': 'high',\n",
    "        'data_type': 'categorical',\n",
    "    },\n",
    "    'Binary features': {\n",
    "        'df': features_binary.iloc[:n, :],\n",
    "        'indices': ['Feature {}'.format(i) for i in range(n)],\n",
    "        'index_aliases': ['Alias {}'.format(i) for i in range(n)],\n",
    "        'emphasis': 'high',\n",
    "        'data_type': 'binary',\n",
    "    },\n",
    "    'Cotinuous features (missing last 10 & scores ascending)': {\n",
    "        'df': features_continuous.iloc[:n, :-10],\n",
    "        'indices': ['Feature {}'.format(i) for i in range(n)],\n",
    "        'index_aliases': ['Alias {}'.format(i) for i in range(n)],\n",
    "        'emphasis': 'low',\n",
    "        'data_type': 'continuous',\n",
    "    },\n",
    "    'Cotinuous features (missing first 10 & scores ascending)': {\n",
    "        'df': features_continuous.iloc[:n, 10:],\n",
    "        'indices': ['Feature {}'.format(i) for i in range(n)],\n",
    "        'index_aliases': ['Alias {}'.format(i) for i in range(n)],\n",
    "        'emphasis': 'low',\n",
    "        'data_type': 'continuous',\n",
    "    },\n",
    "}"
   ]
  },
  {
   "cell_type": "code",
   "execution_count": null,
   "metadata": {
    "ExecuteTime": {
     "end_time": "2018-03-05T04:41:53.256667Z",
     "start_time": "2018-03-05T04:41:45.694Z"
    },
    "scrolled": false
   },
   "outputs": [],
   "source": [
    "make_summary_match_panel(\n",
    "    target,\n",
    "    multiple_features,\n",
    "    title='Default',\n",
    "    plot_column_names=True,\n",
    "    file_path='file_path')"
   ]
  },
  {
   "cell_type": "code",
   "execution_count": null,
   "metadata": {
    "ExecuteTime": {
     "end_time": "2018-03-05T04:41:53.258795Z",
     "start_time": "2018-03-05T04:41:45.697Z"
    },
    "scrolled": false
   },
   "outputs": [],
   "source": [
    "make_summary_match_panel(\n",
    "    target,\n",
    "    multiple_features,\n",
    "    plot_only_columns_shared_by_target_and_all_features=True,\n",
    "    title='Only Columns Shared by Target and All Features',\n",
    "    plot_column_names=True)"
   ]
  },
  {
   "cell_type": "code",
   "execution_count": null,
   "metadata": {
    "ExecuteTime": {
     "end_time": "2018-03-05T04:41:53.260707Z",
     "start_time": "2018-03-05T04:41:45.704Z"
    }
   },
   "outputs": [],
   "source": [
    "array_2d_0 = np.random.random_sample((\n",
    "    n_row,\n",
    "    2, ))\n",
    "\n",
    "array_2d_1 = np.random.random_sample((\n",
    "    n_row,\n",
    "    8, ))\n",
    "\n",
    "make_comparison_panel(\n",
    "    array_2d_0,\n",
    "    array_2d_1,\n",
    "    array_2d_0_name='ND Array 0',\n",
    "    array_2d_1_name='ND Array 1')"
   ]
  }
 ],
 "metadata": {
  "kernelspec": {
   "display_name": "Python [default]",
   "language": "python",
   "name": "python3"
  },
  "language_info": {
   "codemirror_mode": {
    "name": "ipython",
    "version": 3
   },
   "file_extension": ".py",
   "mimetype": "text/x-python",
   "name": "python",
   "nbconvert_exporter": "python",
   "pygments_lexer": "ipython3",
   "version": "3.6.4"
  }
 },
 "nbformat": 4,
 "nbformat_minor": 2
}

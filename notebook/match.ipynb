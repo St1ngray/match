{
 "cells": [
  {
   "cell_type": "code",
   "execution_count": null,
   "metadata": {
    "ExecuteTime": {
     "end_time": "2018-02-09T08:04:25.548545Z",
     "start_time": "2018-02-09T08:04:24.938775Z"
    }
   },
   "outputs": [],
   "source": [
    "%load_ext autoreload\n",
    "%autoreload 2\n",
    "%matplotlib inline"
   ]
  },
  {
   "cell_type": "code",
   "execution_count": null,
   "metadata": {
    "ExecuteTime": {
     "end_time": "2018-02-09T08:04:28.230049Z",
     "start_time": "2018-02-09T08:04:25.555060Z"
    }
   },
   "outputs": [],
   "source": [
    "import sys\n",
    "\n",
    "import numpy as np\n",
    "import pandas as pd\n",
    "\n",
    "sys.path.insert(0, '..')\n",
    "from match.make_match_panel import make_match_panel\n",
    "from match.make_summary_match_panel import make_summary_match_panel\n",
    "from match.make_comparison_panel import make_comparison_panel"
   ]
  },
  {
   "cell_type": "code",
   "execution_count": null,
   "metadata": {
    "ExecuteTime": {
     "end_time": "2018-02-09T08:04:31.804097Z",
     "start_time": "2018-02-09T08:04:28.249126Z"
    }
   },
   "outputs": [],
   "source": [
    "features = pd.read_table('gene_set_x_sample.tsv', index_col=0)\n",
    "\n",
    "target = pd.Series(\n",
    "    (0, ) * 3 + (1, ) * 3, name='Target', index=features.columns)\n",
    "\n",
    "make_match_panel(\n",
    "    target,\n",
    "    features,\n",
    "    target_ascending=True,\n",
    "    target_type='binary',\n",
    "    target_xticklabels=('C', ) * 3 + ('T', ) * 3)"
   ]
  },
  {
   "cell_type": "code",
   "execution_count": null,
   "metadata": {
    "ExecuteTime": {
     "end_time": "2018-02-09T08:04:52.535010Z",
     "start_time": "2018-02-09T08:04:31.809763Z"
    },
    "scrolled": false
   },
   "outputs": [],
   "source": [
    "target = pd.read_table('target.tsv', index_col=0, header=None, squeeze=True)\n",
    "target.name = 'Target Name'\n",
    "\n",
    "features = pd.read_table('features.tsv', index_col=0)\n",
    "\n",
    "make_match_panel(target, features, n_top_feature=3, max_n_feature=5)"
   ]
  },
  {
   "cell_type": "code",
   "execution_count": null,
   "metadata": {
    "ExecuteTime": {
     "end_time": "2018-02-09T08:04:52.634541Z",
     "start_time": "2018-02-09T08:04:52.540173Z"
    }
   },
   "outputs": [],
   "source": [
    "n_row = 100\n",
    "n_column = 100"
   ]
  },
  {
   "cell_type": "code",
   "execution_count": null,
   "metadata": {
    "ExecuteTime": {
     "end_time": "2018-02-09T08:05:05.723021Z",
     "start_time": "2018-02-09T08:04:52.639121Z"
    },
    "scrolled": false
   },
   "outputs": [],
   "source": [
    "target = pd.Series(\n",
    "    np.random.random_sample(n_column),\n",
    "    name='Target Name',\n",
    "    index=('Sample {}'.format(i) for i in range(n_column)))\n",
    "\n",
    "features_continuous = pd.DataFrame(\n",
    "    np.random.random_sample((\n",
    "        n_row,\n",
    "        n_column, )),\n",
    "    index=('Feature {}'.format(i) for i in range(n_row)),\n",
    "    columns=('Sample {}'.format(i) for i in range(n_column)))\n",
    "\n",
    "make_match_panel(target, features_continuous)"
   ]
  },
  {
   "cell_type": "code",
   "execution_count": null,
   "metadata": {
    "ExecuteTime": {
     "end_time": "2018-02-09T08:05:10.507609Z",
     "start_time": "2018-02-09T08:05:05.730542Z"
    },
    "scrolled": false
   },
   "outputs": [],
   "source": [
    "features_categorical = pd.DataFrame(\n",
    "    np.random.random_integers(0, 5, size=(\n",
    "        n_row,\n",
    "        n_column, )),\n",
    "    index=('Feature {}'.format(i) for i in range(n_row)),\n",
    "    columns=('Sample {}'.format(i) for i in range(n_column)))\n",
    "\n",
    "make_match_panel(target, features_categorical, features_type='categorical')"
   ]
  },
  {
   "cell_type": "code",
   "execution_count": null,
   "metadata": {
    "ExecuteTime": {
     "end_time": "2018-02-09T08:05:10.509634Z",
     "start_time": "2018-02-09T08:04:24.988Z"
    },
    "scrolled": false
   },
   "outputs": [],
   "source": [
    "features_binary = pd.DataFrame(\n",
    "    np.random.random_integers(0, 1, size=(\n",
    "        n_row,\n",
    "        n_column, )),\n",
    "    index=('Feature {}'.format(i) for i in range(n_row)),\n",
    "    columns=('Sample {}'.format(i) for i in range(n_column)))\n",
    "\n",
    "make_match_panel(target, features_binary, features_type='binary')"
   ]
  },
  {
   "cell_type": "code",
   "execution_count": null,
   "metadata": {
    "ExecuteTime": {
     "end_time": "2018-02-09T08:05:10.511868Z",
     "start_time": "2018-02-09T08:04:25.000Z"
    },
    "scrolled": false
   },
   "outputs": [],
   "source": [
    "features_with_missing = features_continuous.copy()\n",
    "features_with_missing.loc[\n",
    "    np.random.choice(features_with_missing.index, size=n_column // 3),\n",
    "    np.random.choice(features_with_missing.columns, size=n_column // 3)] = None\n",
    "\n",
    "make_match_panel(target, features_with_missing)"
   ]
  },
  {
   "cell_type": "code",
   "execution_count": null,
   "metadata": {
    "ExecuteTime": {
     "end_time": "2018-02-09T08:05:10.514227Z",
     "start_time": "2018-02-09T08:04:25.019Z"
    },
    "scrolled": false
   },
   "outputs": [],
   "source": [
    "features = pd.DataFrame(\n",
    "    np.random.random_sample((\n",
    "        n_row,\n",
    "        3, )),\n",
    "    index=('Feature {}'.format(i) for i in range(n_row)),\n",
    "    columns=('Sample {}'.format(i) for i in range(3)))\n",
    "\n",
    "target = pd.Series(\n",
    "    (\n",
    "        0,\n",
    "        1,\n",
    "        0, ), name='Target Name', index=features.columns)\n",
    "\n",
    "make_match_panel(\n",
    "    target,\n",
    "    features,\n",
    "    target_ascending=None,\n",
    "    target_type='binary',\n",
    "    min_n_sample=3,\n",
    "    target_xticklabels=(\n",
    "        'Low',\n",
    "        'High',\n",
    "        'Low', ))"
   ]
  },
  {
   "cell_type": "code",
   "execution_count": null,
   "metadata": {
    "ExecuteTime": {
     "end_time": "2018-02-09T08:05:10.516218Z",
     "start_time": "2018-02-09T08:04:25.022Z"
    }
   },
   "outputs": [],
   "source": [
    "target = pd.Series(\n",
    "    np.random.random_sample(n_column),\n",
    "    name='Target Name',\n",
    "    index=('Sample {}'.format(i) for i in range(n_column)))\n",
    "\n",
    "features_continuous = pd.DataFrame(\n",
    "    np.random.random_sample((\n",
    "        n_row,\n",
    "        n_column, )),\n",
    "    index=('Feature {}'.format(i) for i in range(n_row)),\n",
    "    columns=('Sample {}'.format(i) for i in range(n_column)))\n",
    "\n",
    "n = 3\n",
    "\n",
    "multiple_features = {\n",
    "    'Continuous features': {\n",
    "        'df': features_continuous.iloc[:n, :],\n",
    "        'indices': ['Feature {}'.format(i) for i in range(n)],\n",
    "        'index_aliases': ['Alias {}'.format(i) for i in range(n)],\n",
    "        'emphasis': 'high',\n",
    "        'data_type': 'continuous',\n",
    "    },\n",
    "    'Categorical features': {\n",
    "        'df': features_categorical.iloc[:n, :],\n",
    "        'indices': ['Feature {}'.format(i) for i in range(n)],\n",
    "        'index_aliases': ['Alias {}'.format(i) for i in range(n)],\n",
    "        'emphasis': 'high',\n",
    "        'data_type': 'categorical',\n",
    "    },\n",
    "    'Binary features': {\n",
    "        'df': features_binary.iloc[:n, :],\n",
    "        'indices': ['Feature {}'.format(i) for i in range(n)],\n",
    "        'index_aliases': ['Alias {}'.format(i) for i in range(n)],\n",
    "        'emphasis': 'high',\n",
    "        'data_type': 'binary',\n",
    "    },\n",
    "    'Cotinuous features (missing last 10 & scores ascending)': {\n",
    "        'df': features_continuous.iloc[:n, :-10],\n",
    "        'indices': ['Feature {}'.format(i) for i in range(n)],\n",
    "        'index_aliases': ['Alias {}'.format(i) for i in range(n)],\n",
    "        'emphasis': 'low',\n",
    "        'data_type': 'continuous',\n",
    "    },\n",
    "    'Cotinuous features (missing first 10 & scores ascending)': {\n",
    "        'df': features_continuous.iloc[:n, 10:],\n",
    "        'indices': ['Feature {}'.format(i) for i in range(n)],\n",
    "        'index_aliases': ['Alias {}'.format(i) for i in range(n)],\n",
    "        'emphasis': 'low',\n",
    "        'data_type': 'continuous',\n",
    "    },\n",
    "}"
   ]
  },
  {
   "cell_type": "code",
   "execution_count": null,
   "metadata": {
    "ExecuteTime": {
     "end_time": "2018-02-09T08:05:10.518210Z",
     "start_time": "2018-02-09T08:04:25.026Z"
    },
    "scrolled": false
   },
   "outputs": [],
   "source": [
    "make_summary_match_panel(\n",
    "    target, multiple_features, title='Default', plot_column_names=True)"
   ]
  },
  {
   "cell_type": "code",
   "execution_count": null,
   "metadata": {
    "ExecuteTime": {
     "end_time": "2018-02-09T08:05:10.520249Z",
     "start_time": "2018-02-09T08:04:25.031Z"
    },
    "scrolled": false
   },
   "outputs": [],
   "source": [
    "make_summary_match_panel(\n",
    "    target,\n",
    "    multiple_features,\n",
    "    plot_only_columns_shared_by_target_and_all_features=True,\n",
    "    title='Only Columns Shared by Target and All Features',\n",
    "    plot_column_names=True)"
   ]
  },
  {
   "cell_type": "code",
   "execution_count": null,
   "metadata": {
    "ExecuteTime": {
     "end_time": "2018-02-09T08:05:10.522245Z",
     "start_time": "2018-02-09T08:04:25.035Z"
    }
   },
   "outputs": [],
   "source": [
    "array_2d_0 = np.random.random_sample((\n",
    "    n_row,\n",
    "    2, ))\n",
    "\n",
    "array_2d_1 = np.random.random_sample((\n",
    "    n_row,\n",
    "    8, ))\n",
    "\n",
    "make_comparison_panel(\n",
    "    array_2d_0,\n",
    "    array_2d_1,\n",
    "    array_2d_0_name='ND Array 0',\n",
    "    array_2d_1_name='ND Array 1')"
   ]
  }
 ],
 "metadata": {
  "kernelspec": {
   "display_name": "Python [default]",
   "language": "python",
   "name": "python3"
  },
  "language_info": {
   "codemirror_mode": {
    "name": "ipython",
    "version": 3
   },
   "file_extension": ".py",
   "mimetype": "text/x-python",
   "name": "python",
   "nbconvert_exporter": "python",
   "pygments_lexer": "ipython3",
   "version": "3.6.3"
  }
 },
 "nbformat": 4,
 "nbformat_minor": 2
}

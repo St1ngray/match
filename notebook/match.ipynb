{
 "cells": [
  {
   "cell_type": "code",
   "execution_count": null,
   "metadata": {
    "ExecuteTime": {
     "end_time": "2018-05-15T08:25:49.348189Z",
     "start_time": "2018-05-15T08:25:49.284872Z"
    }
   },
   "outputs": [],
   "source": [
    "%load_ext autoreload\n",
    "%autoreload 2"
   ]
  },
  {
   "cell_type": "code",
   "execution_count": null,
   "metadata": {
    "ExecuteTime": {
     "end_time": "2018-05-15T08:25:50.299139Z",
     "start_time": "2018-05-15T08:25:49.353068Z"
    }
   },
   "outputs": [],
   "source": [
    "import sys\n",
    "\n",
    "import numpy as np\n",
    "import pandas as pd\n",
    "\n",
    "sys.path.insert(0, '..')"
   ]
  },
  {
   "cell_type": "code",
   "execution_count": null,
   "metadata": {
    "ExecuteTime": {
     "end_time": "2018-05-15T08:25:50.376623Z",
     "start_time": "2018-05-15T08:25:50.306238Z"
    }
   },
   "outputs": [],
   "source": [
    "np.random.seed(20121020)"
   ]
  },
  {
   "cell_type": "code",
   "execution_count": null,
   "metadata": {
    "ExecuteTime": {
     "end_time": "2018-05-15T08:25:55.586086Z",
     "start_time": "2018-05-15T08:25:50.382171Z"
    }
   },
   "outputs": [],
   "source": [
    "from match.make_match_panel import make_match_panel"
   ]
  },
  {
   "cell_type": "code",
   "execution_count": null,
   "metadata": {
    "ExecuteTime": {
     "end_time": "2018-05-15T08:28:48.806206Z",
     "start_time": "2018-05-15T08:28:36.999730Z"
    },
    "scrolled": false
   },
   "outputs": [],
   "source": [
    "target = pd.read_table('target_0.tsv', index_col=0, squeeze=True)\n",
    "\n",
    "features = pd.read_table('features_0.tsv', index_col=0)\n",
    "\n",
    "scores = make_match_panel(\n",
    "    target, features, n_sampling=3, n_permutation=1, target_type='binary')\n",
    "\n",
    "scores"
   ]
  },
  {
   "cell_type": "code",
   "execution_count": null,
   "metadata": {
    "ExecuteTime": {
     "end_time": "2018-05-15T08:26:05.021694Z",
     "start_time": "2018-05-15T08:25:49.297Z"
    },
    "scrolled": false
   },
   "outputs": [],
   "source": [
    "n_index = 8\n",
    "\n",
    "n_column = 24\n",
    "\n",
    "features = pd.DataFrame(\n",
    "    np.random.random_sample(size=(n_index, n_column)),\n",
    "    index=('Index {}'.format(i) for i in range(n_index)),\n",
    "    columns=('Column {}'.format(i) for i in range(n_column)))\n",
    "\n",
    "for target in (\n",
    "        pd.Series(\n",
    "            (0, ) * 1 + (1, ) * 15 + (2, ) * 8,\n",
    "            index=('Column {}'.format(i) for i in range(n_column)),\n",
    "            name='Target'),\n",
    "        pd.Series(\n",
    "            (0, ) * 8 + (2, ) * 8 + (1, ) * 8,\n",
    "            index=('Column {}'.format(i) for i in range(n_column)),\n",
    "            name='Target'),\n",
    "        pd.Series(\n",
    "            ('Aa', ) * 4 + ('Bb', ) * 4 + ('Cc', ) * 4 + ('Aa', ) * 4 +\n",
    "            ('Bb', ) * 4 + ('Cc', ) * 4,\n",
    "            index=('Column {}'.format(i) for i in range(n_column)),\n",
    "            name='Target'),\n",
    "):\n",
    "\n",
    "    scores = make_match_panel(\n",
    "        target,\n",
    "        features,\n",
    "        target_ascending=True,\n",
    "        n_sampling=3,\n",
    "        n_permutation=1,\n",
    "        target_type='categorical')"
   ]
  },
  {
   "cell_type": "code",
   "execution_count": null,
   "metadata": {
    "ExecuteTime": {
     "end_time": "2018-05-15T08:26:05.024004Z",
     "start_time": "2018-05-15T08:25:49.301Z"
    },
    "scrolled": false
   },
   "outputs": [],
   "source": [
    "n_index = 8\n",
    "\n",
    "n_column = 24\n",
    "\n",
    "target = pd.Series(\n",
    "    np.random.random_sample(size=n_column + 1),\n",
    "    index=('Column {}'.format(i) for i in range(n_column + 1)),\n",
    "    name='Target')\n",
    "\n",
    "features = pd.DataFrame(\n",
    "    np.random.random_sample(size=(n_index, n_column)),\n",
    "    index=('ABCDEFGHIJKLMNOPQ{}'.format(i) for i in range(n_index)),\n",
    "    columns=('Column {}'.format(i) for i in range(n_column)))\n",
    "\n",
    "features.iloc[0] = 0\n",
    "\n",
    "features.loc[np.random.choice(\n",
    "    features.index, size=features.index.size // 8 * 7, replace=False),\n",
    "             np.random.choice(\n",
    "                 features.columns,\n",
    "                 size=features.columns.size // 8 * 7,\n",
    "                 replace=False)] = np.nan\n",
    "\n",
    "scores = make_match_panel(\n",
    "    target, features, target_ascending=None, n_sampling=3, n_permutation=1)\n",
    "\n",
    "scores"
   ]
  },
  {
   "cell_type": "code",
   "execution_count": null,
   "metadata": {
    "ExecuteTime": {
     "end_time": "2018-05-15T08:26:05.025954Z",
     "start_time": "2018-05-15T08:25:49.304Z"
    },
    "scrolled": false
   },
   "outputs": [],
   "source": [
    "n_index = 8\n",
    "\n",
    "n_column = 80\n",
    "\n",
    "target = pd.Series(\n",
    "    np.random.random_sample(size=n_column),\n",
    "    name='Target',\n",
    "    index=('Column {}'.format(i) for i in range(n_column)))\n",
    "\n",
    "features = pd.DataFrame(\n",
    "    np.random.random_sample(size=(n_index, n_column)),\n",
    "    index=('Index {}'.format(i) for i in range(n_index)),\n",
    "    columns=('Column {}'.format(i) for i in range(n_column)))\n",
    "\n",
    "scores = make_match_panel(\n",
    "    target, features, plot_target_std_max=1, plot_features_std_max=2)\n",
    "\n",
    "features = pd.DataFrame(\n",
    "    np.random.random_integers(0, 8, size=(n_index, n_column)),\n",
    "    index=('Index {}'.format(i) for i in range(n_index)),\n",
    "    columns=('Column {}'.format(i) for i in range(n_column)))\n",
    "\n",
    "scores = make_match_panel(target, features, features_type='categorical')\n",
    "\n",
    "features = pd.DataFrame(\n",
    "    np.random.random_integers(0, 1, size=(n_index, n_column)),\n",
    "    index=('Index {}'.format(i) for i in range(n_index)),\n",
    "    columns=('Column {}'.format(i) for i in range(n_column)))\n",
    "\n",
    "scores = make_match_panel(target, features, features_type='binary')\n",
    "\n",
    "scores"
   ]
  },
  {
   "cell_type": "code",
   "execution_count": null,
   "metadata": {
    "ExecuteTime": {
     "end_time": "2018-05-15T08:26:05.028128Z",
     "start_time": "2018-05-15T08:25:49.309Z"
    },
    "scrolled": false
   },
   "outputs": [],
   "source": [
    "from match.make_summary_match_panel import make_summary_match_panel\n",
    "\n",
    "n_index = 8\n",
    "\n",
    "n_column = 24\n",
    "\n",
    "features_continuous = pd.DataFrame(\n",
    "    np.random.random_sample(size=(n_index, n_column)),\n",
    "    index=('Continuous Index {}'.format(i) for i in range(n_index)),\n",
    "    columns=('Column {}'.format(i) for i in range(n_column)))\n",
    "\n",
    "features_categorical = pd.DataFrame(\n",
    "    np.random.random_integers(0, 8, size=(n_index, n_column)),\n",
    "    index=('Categorical Index {}'.format(i) for i in range(n_index)),\n",
    "    columns=('Column {}'.format(i) for i in range(n_column)))\n",
    "\n",
    "features_binary = pd.DataFrame(\n",
    "    np.random.random_integers(0, 1, size=(n_index, n_column)),\n",
    "    index=('Binary Index {}'.format(i) for i in range(n_index)),\n",
    "    columns=('Column {}'.format(i) for i in range(n_column)))\n",
    "\n",
    "n = 3\n",
    "\n",
    "features_dict = {\n",
    "    'Continuous features': {\n",
    "        'df': features_continuous.iloc[:n, :],\n",
    "        'indices': ['Continuous Index {}'.format(i) for i in range(n)],\n",
    "        'index_aliases': ['Alias {}'.format(i) for i in range(n)],\n",
    "        'emphasis': 'high',\n",
    "        'data_type': 'continuous'\n",
    "    },\n",
    "    'Cotinuous features (missing last 10 & scores ascending)': {\n",
    "        'df': features_continuous.iloc[:n, :],\n",
    "        'indices': ['Continuous Index {}'.format(i) for i in range(n)],\n",
    "        'index_aliases': ['Alias {}'.format(i) for i in range(n)],\n",
    "        'emphasis': 'low',\n",
    "        'data_type': 'continuous'\n",
    "    },\n",
    "    'Cotinuous features (missing first 10 & scores ascending)': {\n",
    "        'df': features_continuous.iloc[:n, :],\n",
    "        'indices': ['Continuous Index {}'.format(i) for i in range(n)],\n",
    "        'index_aliases': ['Alias {}'.format(i) for i in range(n)],\n",
    "        'emphasis': 'low',\n",
    "        'data_type': 'continuous'\n",
    "    },\n",
    "    'Categorical features': {\n",
    "        'df': features_categorical.iloc[:n, :],\n",
    "        'indices': ['Categorical Index {}'.format(i) for i in range(n)],\n",
    "        'index_aliases': ['Alias {}'.format(i) for i in range(n)],\n",
    "        'emphasis': 'high',\n",
    "        'data_type': 'categorical'\n",
    "    },\n",
    "    'Binary features': {\n",
    "        'df': features_binary.iloc[:n, :],\n",
    "        'indices': ['Binary Index {}'.format(i) for i in range(n)],\n",
    "        'index_aliases': ['Alias {}'.format(i) for i in range(n)],\n",
    "        'emphasis': 'high',\n",
    "        'data_type': 'binary'\n",
    "    }\n",
    "}\n",
    "\n",
    "for target, target_type in (\n",
    "    (pd.Series(\n",
    "        np.random.random_sample(size=n_column),\n",
    "        name='Target',\n",
    "        index=('Column {}'.format(i) for i in range(n_column))), 'continuous'),\n",
    "    (pd.Series(\n",
    "        ('Aa', ) * 4 + ('Bb', ) * 4 + ('Cc', ) * 4 + ('Aa', ) * 4 +\n",
    "        ('Bb', ) * 4 + ('Cc', ) * 4,\n",
    "        index=('Column {}'.format(i) for i in range(n_column)),\n",
    "        name='Target'), 'categorical'),\n",
    "):\n",
    "\n",
    "    scores = make_summary_match_panel(\n",
    "        target, features_dict, target_type=target_type)\n",
    "\n",
    "    scores = make_summary_match_panel(\n",
    "        target,\n",
    "        features_dict,\n",
    "        target_type=target_type,\n",
    "        plot_only_columns_shared_by_target_and_all_features=True)"
   ]
  },
  {
   "cell_type": "code",
   "execution_count": null,
   "metadata": {
    "ExecuteTime": {
     "end_time": "2018-05-15T08:26:05.031548Z",
     "start_time": "2018-05-15T08:25:49.312Z"
    },
    "scrolled": false
   },
   "outputs": [],
   "source": [
    "from match.make_comparison_panel import make_comparison_panel\n",
    "\n",
    "_2d_array_0 = np.random.random_sample(size=(2, 8))\n",
    "\n",
    "_2d_array_1 = np.random.random_sample(size=(4, 8))\n",
    "\n",
    "comparison = make_comparison_panel(\n",
    "    _2d_array_0, _2d_array_1, name_0='Name 0', name_1='Name 1')\n",
    "\n",
    "_2d_array_0 = np.random.random_sample(size=(32, 8))\n",
    "\n",
    "_2d_array_1 = np.random.random_sample(size=(32, 16))\n",
    "\n",
    "comparison = make_comparison_panel(\n",
    "    _2d_array_0, _2d_array_1, axis=1, name_0='Name 0', name_1='Name 1')"
   ]
  },
  {
   "cell_type": "code",
   "execution_count": null,
   "metadata": {
    "ExecuteTime": {
     "end_time": "2018-05-15T08:26:05.033585Z",
     "start_time": "2018-05-15T08:25:49.314Z"
    },
    "scrolled": false
   },
   "outputs": [],
   "source": [
    "for n_index, n_column in (\n",
    "    (8, 2),\n",
    "    (8, 4),\n",
    "    (8, 16),\n",
    "    (8, 32),\n",
    "    (8, 160),\n",
    "    (8, 320),\n",
    "    (8, 1600),\n",
    "    (8, 3200),\n",
    "    (1, 8),\n",
    "    (2, 8),\n",
    "    (4, 8),\n",
    "    (16, 8),\n",
    "    (32, 8),\n",
    "    (64, 8),\n",
    "    (128, 8),\n",
    "    (320, 8),\n",
    "    (640, 8),\n",
    "):\n",
    "\n",
    "    target = pd.Series(\n",
    "        np.random.random_sample(size=n_column),\n",
    "        index=('Column {}'.format(i) for i in range(n_column)),\n",
    "        name='Target')\n",
    "\n",
    "    features = pd.DataFrame(\n",
    "        np.random.random_sample(size=(n_index, n_column)),\n",
    "        index=('Index {}'.format(i) for i in range(n_index)),\n",
    "        columns=('Column {}'.format(i) for i in range(n_column)))\n",
    "\n",
    "    scores = pd.DataFrame(\n",
    "        np.random.random_sample(size=(features.shape[0], 4)),\n",
    "        index=('Index {}'.format(i) for i in range(n_index)),\n",
    "        columns=('Score', '0.95 MoE', 'P-Value', 'FDR'))\n",
    "\n",
    "    scores = make_match_panel(\n",
    "        target,\n",
    "        features,\n",
    "        scores=scores,\n",
    "        extreme_feature_threshold=None,\n",
    "        title='{}-x-{} Match Panel'.format(n_index, n_column))"
   ]
  }
 ],
 "metadata": {
  "kernelspec": {
   "display_name": "Python 3",
   "language": "python",
   "name": "python3"
  },
  "language_info": {
   "codemirror_mode": {
    "name": "ipython",
    "version": 3
   },
   "file_extension": ".py",
   "mimetype": "text/x-python",
   "name": "python",
   "nbconvert_exporter": "python",
   "pygments_lexer": "ipython3",
   "version": "3.6.5"
  }
 },
 "nbformat": 4,
 "nbformat_minor": 2
}

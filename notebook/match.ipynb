{
 "cells": [
  {
   "cell_type": "code",
   "execution_count": null,
   "metadata": {},
   "outputs": [],
   "source": [
    "%load_ext autoreload\n",
    "%autoreload 2\n",
    "%matplotlib inline"
   ]
  },
  {
   "cell_type": "code",
   "execution_count": null,
   "metadata": {
    "ExecuteTime": {
     "end_time": "2017-12-28T21:13:57.757289Z",
     "start_time": "2017-12-28T21:13:56.442891Z"
    }
   },
   "outputs": [],
   "source": [
    "import sys\n",
    "\n",
    "import numpy as np\n",
    "import pandas as pd\n",
    "\n",
    "sys.path.insert(0, '..')\n",
    "from match.make_match_panel import make_match_panel\n",
    "from match.make_summary_match_panel import make_summary_match_panel"
   ]
  },
  {
   "cell_type": "code",
   "execution_count": null,
   "metadata": {
    "ExecuteTime": {
     "end_time": "2017-12-28T21:13:57.770129Z",
     "start_time": "2017-12-28T21:13:57.759206Z"
    }
   },
   "outputs": [],
   "source": [
    "n_row = 100\n",
    "n_column = 100"
   ]
  },
  {
   "cell_type": "code",
   "execution_count": null,
   "metadata": {
    "ExecuteTime": {
     "end_time": "2017-12-28T21:13:57.801452Z",
     "start_time": "2017-12-28T21:13:57.772977Z"
    },
    "scrolled": true
   },
   "outputs": [],
   "source": [
    "target = pd.Series(\n",
    "    np.random.random_sample(n_column),\n",
    "    name='Target Name',\n",
    "    index=('Sample {}'.format(i) for i in range(n_column)))\n",
    "\n",
    "target_str = pd.Series(\n",
    "    ('T0', ) * (n_column // 2) + ('T1', ) * (n_column // 2),\n",
    "    index=target.index)"
   ]
  },
  {
   "cell_type": "code",
   "execution_count": null,
   "metadata": {},
   "outputs": [],
   "source": [
    "features_continuous = pd.DataFrame(\n",
    "    np.random.random_sample((n_row, n_column)),\n",
    "    index=('Feature {}'.format(i) for i in range(n_row)),\n",
    "    columns=('Sample {}'.format(i) for i in range(n_column)))\n",
    "\n",
    "features_categorical = pd.DataFrame(\n",
    "    np.random.random_integers(0, 5, size=(n_row, n_column)),\n",
    "    index=('Feature {}'.format(i) for i in range(n_row)),\n",
    "    columns=('Sample {}'.format(i) for i in range(n_column)))\n",
    "\n",
    "features_binary = pd.DataFrame(\n",
    "    np.random.random_integers(0, 1, size=(n_row, n_column)),\n",
    "    index=('Feature {}'.format(i) for i in range(n_row)),\n",
    "    columns=('Sample {}'.format(i) for i in range(n_column)))"
   ]
  },
  {
   "cell_type": "code",
   "execution_count": null,
   "metadata": {
    "ExecuteTime": {
     "end_time": "2017-12-28T21:14:05.060335Z",
     "start_time": "2017-12-28T21:13:57.823463Z"
    },
    "scrolled": false
   },
   "outputs": [],
   "source": [
    "match_scores_for_continuous = make_match_panel(\n",
    "    target,\n",
    "    features_continuous,\n",
    "    n_job=1,\n",
    "    n_top_feature=10,\n",
    "    n_sampling=3,\n",
    "    n_permutation=3,\n",
    "    max_ytick_size=3,\n",
    "    plot_column_names=True)"
   ]
  },
  {
   "cell_type": "code",
   "execution_count": null,
   "metadata": {
    "ExecuteTime": {
     "end_time": "2017-12-28T21:14:07.581470Z",
     "start_time": "2017-12-28T21:14:05.080586Z"
    }
   },
   "outputs": [],
   "source": [
    "match_scores_for_continuous = make_match_panel(\n",
    "    target_str,\n",
    "    features_continuous,\n",
    "    n_job=1,\n",
    "    n_top_feature=3,\n",
    "    n_sampling=3,\n",
    "    n_permutation=3,\n",
    "    target_type='binary',\n",
    "    plot_column_names=True)"
   ]
  },
  {
   "cell_type": "code",
   "execution_count": null,
   "metadata": {
    "ExecuteTime": {
     "end_time": "2017-12-28T21:14:10.102573Z",
     "start_time": "2017-12-28T21:14:07.601523Z"
    },
    "scrolled": false
   },
   "outputs": [],
   "source": [
    "match_scores_for_categorical = make_match_panel(\n",
    "    target,\n",
    "    features_categorical,\n",
    "    n_job=1,\n",
    "    n_top_feature=3,\n",
    "    n_sampling=3,\n",
    "    n_permutation=3,\n",
    "    features_type='categorical',\n",
    "    plot_column_names=True)"
   ]
  },
  {
   "cell_type": "code",
   "execution_count": null,
   "metadata": {
    "ExecuteTime": {
     "end_time": "2017-12-28T21:14:12.669107Z",
     "start_time": "2017-12-28T21:14:10.121714Z"
    },
    "scrolled": false
   },
   "outputs": [],
   "source": [
    "match_scores_for_binary = make_match_panel(\n",
    "    target,\n",
    "    features_binary,\n",
    "    n_job=2,\n",
    "    n_top_feature=3,\n",
    "    n_sampling=3,\n",
    "    n_permutation=3,\n",
    "    features_type='binary',\n",
    "    plot_column_names=True)"
   ]
  },
  {
   "cell_type": "code",
   "execution_count": null,
   "metadata": {
    "ExecuteTime": {
     "end_time": "2017-12-28T21:14:12.722011Z",
     "start_time": "2017-12-28T21:14:12.671946Z"
    },
    "scrolled": true
   },
   "outputs": [],
   "source": [
    "features_with_missing = features_continuous.copy()\n",
    "\n",
    "features_with_missing.loc[\n",
    "    np.random.choice(features_with_missing.index, size=n_column // 3),\n",
    "    np.random.choice(features_with_missing.columns, size=n_column // 3)] = None"
   ]
  },
  {
   "cell_type": "code",
   "execution_count": null,
   "metadata": {
    "ExecuteTime": {
     "end_time": "2017-12-28T21:14:15.444258Z",
     "start_time": "2017-12-28T21:14:12.724327Z"
    },
    "scrolled": false
   },
   "outputs": [],
   "source": [
    "match_scores_for_binary = make_match_panel(\n",
    "    target,\n",
    "    features_with_missing,\n",
    "    n_job=2,\n",
    "    n_top_feature=0.95,\n",
    "    n_sampling=3,\n",
    "    n_permutation=3,\n",
    "    features_type='continuous',\n",
    "    plot_column_names=True)"
   ]
  },
  {
   "cell_type": "code",
   "execution_count": null,
   "metadata": {
    "ExecuteTime": {
     "end_time": "2017-12-28T21:14:18.168672Z",
     "start_time": "2017-12-28T21:14:15.447665Z"
    }
   },
   "outputs": [],
   "source": [
    "match_scores_for_binary = make_match_panel(\n",
    "    target_str,\n",
    "    features_with_missing,\n",
    "    n_job=2,\n",
    "    n_top_feature=0.95,\n",
    "    n_sampling=3,\n",
    "    n_permutation=3,\n",
    "    features_type='continuous',\n",
    "    target_type='binary',\n",
    "    plot_column_names=True)"
   ]
  },
  {
   "cell_type": "code",
   "execution_count": null,
   "metadata": {
    "ExecuteTime": {
     "end_time": "2017-12-28T21:14:18.208572Z",
     "start_time": "2017-12-28T21:14:18.170868Z"
    }
   },
   "outputs": [],
   "source": [
    "n = 3\n",
    "\n",
    "multiple_features = {\n",
    "    'Continuous features': {\n",
    "        'df': features_continuous.iloc[:n, :],\n",
    "        'indices': ['Feature {}'.format(i) for i in range(n)],\n",
    "        'index_aliases': ['Alias {}'.format(i) for i in range(n)],\n",
    "        'emphasis': 'high',\n",
    "        'data_type': 'continuous'\n",
    "    },\n",
    "    'Categorical features': {\n",
    "        'df': features_categorical.iloc[:n, :],\n",
    "        'indices': ['Feature {}'.format(i) for i in range(n)],\n",
    "        'index_aliases': ['Alias {}'.format(i) for i in range(n)],\n",
    "        'emphasis': 'high',\n",
    "        'data_type': 'categorical'\n",
    "    },\n",
    "    'Binary features': {\n",
    "        'df': features_binary.iloc[:n, :],\n",
    "        'indices': ['Feature {}'.format(i) for i in range(n)],\n",
    "        'index_aliases': ['Alias {}'.format(i) for i in range(n)],\n",
    "        'emphasis': 'high',\n",
    "        'data_type': 'binary'\n",
    "    },\n",
    "    'Cotinuous features (scores ascending)': {\n",
    "        'df': features_continuous.iloc[:n, :-3],\n",
    "        'indices': ['Feature {}'.format(i) for i in range(n)],\n",
    "        'index_aliases': ['Alias {}'.format(i) for i in range(n)],\n",
    "        'emphasis': 'low',\n",
    "        'data_type': 'continuous'\n",
    "    }\n",
    "}"
   ]
  },
  {
   "cell_type": "code",
   "execution_count": null,
   "metadata": {
    "ExecuteTime": {
     "end_time": "2017-12-28T21:14:22.276817Z",
     "start_time": "2017-12-28T21:14:18.210756Z"
    },
    "scrolled": false
   },
   "outputs": [],
   "source": [
    "make_summary_match_panel(\n",
    "    target, multiple_features, title='Default', plot_column_names=True)"
   ]
  },
  {
   "cell_type": "code",
   "execution_count": null,
   "metadata": {
    "ExecuteTime": {
     "end_time": "2017-12-28T21:14:26.704745Z",
     "start_time": "2017-12-28T21:14:22.280306Z"
    },
    "scrolled": false
   },
   "outputs": [],
   "source": [
    "make_summary_match_panel(\n",
    "    target,\n",
    "    multiple_features,\n",
    "    plot_only_columns_shared_by_target_and_all_features=True,\n",
    "    title='Only Columns Shared by Target and All Features',\n",
    "    plot_column_names=True)"
   ]
  },
  {
   "cell_type": "code",
   "execution_count": null,
   "metadata": {
    "ExecuteTime": {
     "end_time": "2017-12-28T21:14:32.990328Z",
     "start_time": "2017-12-28T21:14:26.707082Z"
    },
    "scrolled": false
   },
   "outputs": [],
   "source": [
    "target = pd.read_table('target.tsv', index_col=0, header=None, squeeze=True)\n",
    "features = pd.read_table('features.tsv', index_col=0)\n",
    "\n",
    "make_match_panel(target, features)"
   ]
  }
 ],
 "metadata": {
  "kernelspec": {
   "display_name": "Python [default]",
   "language": "python",
   "name": "python3"
  },
  "language_info": {
   "codemirror_mode": {
    "name": "ipython",
    "version": 3
   },
   "file_extension": ".py",
   "mimetype": "text/x-python",
   "name": "python",
   "nbconvert_exporter": "python",
   "pygments_lexer": "ipython3",
   "version": "3.6.3"
  }
 },
 "nbformat": 4,
 "nbformat_minor": 2
}

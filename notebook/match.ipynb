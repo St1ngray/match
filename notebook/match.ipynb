{
 "cells": [
  {
   "cell_type": "code",
   "execution_count": 1,
   "metadata": {
    "ExecuteTime": {
     "end_time": "2018-03-12T08:32:56.999840Z",
     "start_time": "2018-03-12T08:32:56.972074Z"
    }
   },
   "outputs": [],
   "source": [
    "%load_ext autoreload\n",
    "%autoreload 2"
   ]
  },
  {
   "cell_type": "code",
   "execution_count": 2,
   "metadata": {
    "ExecuteTime": {
     "end_time": "2018-03-12T08:32:58.951766Z",
     "start_time": "2018-03-12T08:32:57.003357Z"
    }
   },
   "outputs": [],
   "source": [
    "import sys\n",
    "\n",
    "import numpy as np\n",
    "import pandas as pd\n",
    "\n",
    "sys.path.insert(0, '..')"
   ]
  },
  {
   "cell_type": "code",
   "execution_count": 3,
   "metadata": {},
   "outputs": [],
   "source": [
    "np.random.seed(20121020)"
   ]
  },
  {
   "cell_type": "code",
   "execution_count": null,
   "metadata": {},
   "outputs": [],
   "source": [
    "from match.make_match_panel import make_match_panel"
   ]
  },
  {
   "cell_type": "code",
   "execution_count": null,
   "metadata": {
    "scrolled": false
   },
   "outputs": [],
   "source": [
    "for n_row, n_column in (\n",
    "    (8, 2),\n",
    "    (8, 16),\n",
    "    (8, 32),\n",
    "    (8, 160),\n",
    "    (8, 320),\n",
    "    (8, 1600),\n",
    "    (8, 3200),\n",
    "    (8, 16000),\n",
    "    (8, 32000),\n",
    "    (1, 8),\n",
    "    (16, 8),\n",
    "    (32, 8),\n",
    "    (64, 8),\n",
    "    (160, 8),\n",
    "):\n",
    "\n",
    "    target = pd.Series(\n",
    "        np.random.random_sample(n_column),\n",
    "        index=('Column {}'.format(i) for i in range(n_column)),\n",
    "        name='Target')\n",
    "\n",
    "    features = pd.DataFrame(\n",
    "        np.random.random_sample((n_row, n_column)),\n",
    "        index=('Index {}'.format(i) for i in range(n_row)),\n",
    "        columns=('Column {}'.format(i) for i in range(n_column)))\n",
    "\n",
    "    scores = pd.DataFrame(\n",
    "        np.random.random_sample((features.shape[0], 4)),\n",
    "        index=('Index {}'.format(i) for i in range(n_row)),\n",
    "        columns=('Score', '0.95 MoE', 'P-Value', 'FDR'))\n",
    "\n",
    "    scores = make_match_panel(\n",
    "        target,\n",
    "        features,\n",
    "        scores=scores,\n",
    "        extreme_feature_threshold=None,\n",
    "        title='{}-x-{} Match Panel'.format(n_row, n_column))"
   ]
  },
  {
   "cell_type": "code",
   "execution_count": null,
   "metadata": {
    "ExecuteTime": {
     "end_time": "2018-03-12T08:32:58.951766Z",
     "start_time": "2018-03-12T08:32:57.003357Z"
    },
    "scrolled": false
   },
   "outputs": [],
   "source": [
    "n_row = 8\n",
    "n_column = 24\n",
    "\n",
    "features = pd.DataFrame(\n",
    "    np.random.random_sample((n_row, n_column)),\n",
    "    index=('Index {}'.format(i) for i in range(n_row)),\n",
    "    columns=('Column {}'.format(i) for i in range(n_column)))\n",
    "\n",
    "for target in (\n",
    "        pd.Series(\n",
    "            (0, ) * 1 + (1, ) * 15 + (2, ) * 8,\n",
    "            index=('Column {}'.format(i) for i in range(n_column)),\n",
    "            name='Target'),\n",
    "        pd.Series(\n",
    "            (0, ) * 8 + (2, ) * 8 + (1, ) * 8,\n",
    "            index=('Column {}'.format(i) for i in range(n_column)),\n",
    "            name='Target'),\n",
    "        pd.Series(\n",
    "            (0, ) * 8 + (1, ) * 8 + (2, ) * 8,\n",
    "            index=('Column {}'.format(i) for i in range(n_column)),\n",
    "            name='Target'),\n",
    "):\n",
    "\n",
    "    make_match_panel(\n",
    "        target, features, target_ascending=None, target_type='categorical')"
   ]
  },
  {
   "cell_type": "code",
   "execution_count": null,
   "metadata": {
    "ExecuteTime": {
     "end_time": "2018-03-12T08:32:58.951766Z",
     "start_time": "2018-03-12T08:32:57.003357Z"
    },
    "scrolled": false
   },
   "outputs": [],
   "source": [
    "n_row = 8\n",
    "n_column = 24\n",
    "\n",
    "target = pd.Series(\n",
    "    np.random.random_sample(n_column),\n",
    "    index=('Column {}'.format(i) for i in range(n_column)),\n",
    "    name='Target')\n",
    "\n",
    "features = pd.DataFrame(\n",
    "    np.random.random_sample((n_row, n_column)),\n",
    "    index=('Index {}'.format(i) for i in range(n_row)),\n",
    "    columns=('Column {}'.format(i) for i in range(n_column)))\n",
    "\n",
    "features.iloc[0] = 0\n",
    "\n",
    "features.loc[np.random.choice(\n",
    "    features.index, size=features.index.size // 8 * 7, replace=False),\n",
    "             np.random.choice(\n",
    "                 features.columns,\n",
    "                 size=features.columns.size // 8 * 7,\n",
    "                 replace=False)] = np.nan\n",
    "\n",
    "make_match_panel(\n",
    "    target, features, target_ascending=None, n_sampling=3, n_permutation=1)"
   ]
  },
  {
   "cell_type": "code",
   "execution_count": null,
   "metadata": {
    "ExecuteTime": {
     "end_time": "2018-03-12T08:32:58.951766Z",
     "start_time": "2018-03-12T08:32:57.003357Z"
    },
    "scrolled": false
   },
   "outputs": [],
   "source": [
    "n_row = 8\n",
    "n_column = 80\n",
    "\n",
    "target = pd.Series(\n",
    "    np.random.random_sample(n_column),\n",
    "    name='Target Name',\n",
    "    index=('Column {}'.format(i) for i in range(n_column)))\n",
    "\n",
    "features = pd.DataFrame(\n",
    "    np.random.random_sample((n_row, n_column)),\n",
    "    index=('Index {}'.format(i) for i in range(n_row)),\n",
    "    columns=('Column {}'.format(i) for i in range(n_column)))\n",
    "\n",
    "make_match_panel(target, features)\n",
    "\n",
    "features = pd.DataFrame(\n",
    "    np.random.random_integers(0, 8, size=(n_row, n_column)),\n",
    "    index=('Index {}'.format(i) for i in range(n_row)),\n",
    "    columns=('Column {}'.format(i) for i in range(n_column)))\n",
    "\n",
    "make_match_panel(target, features, features_type='categorical')\n",
    "\n",
    "features = pd.DataFrame(\n",
    "    np.random.random_integers(0, 1, size=(n_row, n_column)),\n",
    "    index=('Index {}'.format(i) for i in range(n_row)),\n",
    "    columns=('Column {}'.format(i) for i in range(n_column)))\n",
    "\n",
    "make_match_panel(target, features, features_type='binary')"
   ]
  },
  {
   "cell_type": "code",
   "execution_count": null,
   "metadata": {
    "ExecuteTime": {
     "end_time": "2018-03-12T08:33:11.697009Z",
     "start_time": "2018-03-12T08:33:11.595984Z"
    }
   },
   "outputs": [],
   "source": [
    "from match.make_summary_match_panel import make_summary_match_panel"
   ]
  },
  {
   "cell_type": "code",
   "execution_count": null,
   "metadata": {
    "ExecuteTime": {
     "end_time": "2018-03-12T08:33:11.697009Z",
     "start_time": "2018-03-12T08:33:11.595984Z"
    },
    "scrolled": false
   },
   "outputs": [],
   "source": [
    "target = pd.Series(\n",
    "    np.random.random_sample(n_column),\n",
    "    name='Target Name',\n",
    "    index=('Column {}'.format(i) for i in range(n_column)))\n",
    "\n",
    "features_continuous = pd.DataFrame(\n",
    "    np.random.random_sample((n_row, n_column)),\n",
    "    index=('Index {}'.format(i) for i in range(n_row)),\n",
    "    columns=('Column {}'.format(i) for i in range(n_column)))\n",
    "\n",
    "features_categorical = pd.DataFrame(\n",
    "    np.random.random_integers(0, 8, size=(n_row, n_column)),\n",
    "    index=('Index {}'.format(i) for i in range(n_row)),\n",
    "    columns=('Column {}'.format(i) for i in range(n_column)))\n",
    "\n",
    "features_binary = pd.DataFrame(\n",
    "    np.random.random_integers(0, 1, size=(n_row, n_column)),\n",
    "    index=('Index {}'.format(i) for i in range(n_row)),\n",
    "    columns=('Column {}'.format(i) for i in range(n_column)))\n",
    "\n",
    "n = 3\n",
    "\n",
    "features_dict = {\n",
    "    'Continuous features': {\n",
    "        'df': features_continuous.iloc[:n, :],\n",
    "        'indices': ['Index {}'.format(i) for i in range(n)],\n",
    "        'index_aliases': ['Alias {}'.format(i) for i in range(n)],\n",
    "        'emphasis': 'high',\n",
    "        'data_type': 'continuous'\n",
    "    },\n",
    "    'Categorical features': {\n",
    "        'df': features_categorical.iloc[:n, :],\n",
    "        'indices': ['Index {}'.format(i) for i in range(n)],\n",
    "        'index_aliases': ['Alias {}'.format(i) for i in range(n)],\n",
    "        'emphasis': 'high',\n",
    "        'data_type': 'categorical'\n",
    "    },\n",
    "    'Binary features': {\n",
    "        'df': features_binary.iloc[:n, :],\n",
    "        'indices': ['Index {}'.format(i) for i in range(n)],\n",
    "        'index_aliases': ['Alias {}'.format(i) for i in range(n)],\n",
    "        'emphasis': 'high',\n",
    "        'data_type': 'binary'\n",
    "    },\n",
    "    'Cotinuous features (missing last 10 & scores ascending)': {\n",
    "        'df': features_continuous.iloc[:n, :],\n",
    "        'indices': ['Index {}'.format(i) for i in range(n)],\n",
    "        'index_aliases': ['Alias {}'.format(i) for i in range(n)],\n",
    "        'emphasis': 'low',\n",
    "        'data_type': 'continuous'\n",
    "    },\n",
    "    'Cotinuous features (missing first 10 & scores ascending)': {\n",
    "        'df': features_continuous.iloc[:n, :],\n",
    "        'indices': ['Index {}'.format(i) for i in range(n)],\n",
    "        'index_aliases': ['Alias {}'.format(i) for i in range(n)],\n",
    "        'emphasis': 'low',\n",
    "        'data_type': 'continuous'\n",
    "    }\n",
    "}\n",
    "\n",
    "make_summary_match_panel(target, features_dict)\n",
    "\n",
    "make_summary_match_panel(\n",
    "    target,\n",
    "    features_dict,\n",
    "    plot_only_columns_shared_by_target_and_all_features=True)"
   ]
  },
  {
   "cell_type": "code",
   "execution_count": null,
   "metadata": {
    "ExecuteTime": {
     "end_time": "2018-03-12T08:33:19.562149Z",
     "start_time": "2018-03-12T08:33:18.804313Z"
    },
    "scrolled": false
   },
   "outputs": [],
   "source": [
    "from match.make_comparison_panel import make_comparison_panel\n",
    "\n",
    "n_row = 8\n",
    "\n",
    "array_2d_0 = np.random.random_sample((n_row, 16))\n",
    "array_2d_1 = np.random.random_sample((n_row, 32))\n",
    "\n",
    "make_comparison_panel(\n",
    "    array_2d_0,\n",
    "    array_2d_1,\n",
    "    array_2d_0_name='ND Array 0',\n",
    "    array_2d_1_name='ND Array 1')"
   ]
  }
 ],
 "metadata": {
  "kernelspec": {
   "display_name": "Python 3",
   "language": "python",
   "name": "python3"
  },
  "language_info": {
   "codemirror_mode": {
    "name": "ipython",
    "version": 3
   },
   "file_extension": ".py",
   "mimetype": "text/x-python",
   "name": "python",
   "nbconvert_exporter": "python",
   "pygments_lexer": "ipython3",
   "version": "3.6.4"
  }
 },
 "nbformat": 4,
 "nbformat_minor": 2
}

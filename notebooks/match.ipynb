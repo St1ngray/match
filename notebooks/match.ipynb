{
 "cells": [
  {
   "cell_type": "code",
   "execution_count": 1,
   "metadata": {
    "ExecuteTime": {
     "end_time": "2017-09-22T21:46:57.875287Z",
     "start_time": "2017-09-22T21:46:56.720640Z"
    },
    "collapsed": true
   },
   "outputs": [],
   "source": [
    "import numpy as np\n",
    "import pandas as pd\n",
    "\n",
    "import sys\n",
    "sys.path.insert(0, '..')\n",
    "\n",
    "from match.make_match_panel import make_match_panel\n",
    "from match.make_summary_match_panel import make_summary_match_panel\n",
    "from match.support.support.df import simulate_df\n",
    "from match.support.support.s import simulate_s\n",
    "\n",
    "%load_ext autoreload\n",
    "%autoreload 2\n",
    "%matplotlib inline"
   ]
  },
  {
   "cell_type": "code",
   "execution_count": 2,
   "metadata": {
    "ExecuteTime": {
     "end_time": "2017-09-22T21:46:57.891523Z",
     "start_time": "2017-09-22T21:46:57.877525Z"
    },
    "collapsed": true
   },
   "outputs": [],
   "source": [
    "n = 10"
   ]
  },
  {
   "cell_type": "code",
   "execution_count": 3,
   "metadata": {
    "ExecuteTime": {
     "end_time": "2017-09-22T21:46:57.913510Z",
     "start_time": "2017-09-22T21:46:57.893161Z"
    }
   },
   "outputs": [
    {
     "data": {
      "text/plain": [
       "Sample 0    0.367457\n",
       "Sample 1    0.875658\n",
       "Sample 2    0.579766\n",
       "Sample 3    0.742473\n",
       "Sample 4    0.724835\n",
       "Sample 5    0.335984\n",
       "Sample 6    0.422823\n",
       "Sample 7    0.617402\n",
       "Sample 8    0.874753\n",
       "Sample 9    0.405035\n",
       "Name: Simulated Series, dtype: float64"
      ]
     },
     "execution_count": 3,
     "metadata": {},
     "output_type": "execute_result"
    }
   ],
   "source": [
    "target = simulate_s(n, index_prefix='Sample ')\n",
    "\n",
    "target"
   ]
  },
  {
   "cell_type": "code",
   "execution_count": 4,
   "metadata": {
    "ExecuteTime": {
     "end_time": "2017-09-22T21:46:57.945525Z",
     "start_time": "2017-09-22T21:46:57.915400Z"
    },
    "scrolled": true
   },
   "outputs": [
    {
     "data": {
      "text/html": [
       "<div>\n",
       "<style>\n",
       "    .dataframe thead tr:only-child th {\n",
       "        text-align: right;\n",
       "    }\n",
       "\n",
       "    .dataframe thead th {\n",
       "        text-align: left;\n",
       "    }\n",
       "\n",
       "    .dataframe tbody tr th {\n",
       "        vertical-align: top;\n",
       "    }\n",
       "</style>\n",
       "<table border=\"1\" class=\"dataframe\">\n",
       "  <thead>\n",
       "    <tr style=\"text-align: right;\">\n",
       "      <th></th>\n",
       "      <th>Sample 0</th>\n",
       "      <th>Sample 1</th>\n",
       "      <th>Sample 2</th>\n",
       "      <th>Sample 3</th>\n",
       "      <th>Sample 4</th>\n",
       "      <th>Sample 5</th>\n",
       "      <th>Sample 6</th>\n",
       "      <th>Sample 7</th>\n",
       "      <th>Sample 8</th>\n",
       "      <th>Sample 9</th>\n",
       "    </tr>\n",
       "  </thead>\n",
       "  <tbody>\n",
       "    <tr>\n",
       "      <th>Feature 0</th>\n",
       "      <td>0.068601</td>\n",
       "      <td>0.255785</td>\n",
       "      <td>0.887473</td>\n",
       "      <td>0.491769</td>\n",
       "      <td>0.235631</td>\n",
       "      <td>0.245504</td>\n",
       "      <td>0.386529</td>\n",
       "      <td>0.077322</td>\n",
       "      <td>0.196499</td>\n",
       "      <td>0.403174</td>\n",
       "    </tr>\n",
       "    <tr>\n",
       "      <th>Feature 1</th>\n",
       "      <td>0.316104</td>\n",
       "      <td>0.648752</td>\n",
       "      <td>0.665576</td>\n",
       "      <td>0.933196</td>\n",
       "      <td>0.013674</td>\n",
       "      <td>0.307133</td>\n",
       "      <td>0.789089</td>\n",
       "      <td>0.123165</td>\n",
       "      <td>0.316469</td>\n",
       "      <td>0.599931</td>\n",
       "    </tr>\n",
       "    <tr>\n",
       "      <th>Feature 2</th>\n",
       "      <td>0.405416</td>\n",
       "      <td>0.232356</td>\n",
       "      <td>0.746589</td>\n",
       "      <td>0.211184</td>\n",
       "      <td>0.498220</td>\n",
       "      <td>0.654401</td>\n",
       "      <td>0.727675</td>\n",
       "      <td>0.229064</td>\n",
       "      <td>0.679895</td>\n",
       "      <td>0.709664</td>\n",
       "    </tr>\n",
       "    <tr>\n",
       "      <th>Feature 3</th>\n",
       "      <td>0.948314</td>\n",
       "      <td>0.232897</td>\n",
       "      <td>0.070321</td>\n",
       "      <td>0.025168</td>\n",
       "      <td>0.522411</td>\n",
       "      <td>0.269510</td>\n",
       "      <td>0.177824</td>\n",
       "      <td>0.316154</td>\n",
       "      <td>0.190215</td>\n",
       "      <td>0.322811</td>\n",
       "    </tr>\n",
       "    <tr>\n",
       "      <th>Feature 4</th>\n",
       "      <td>0.789731</td>\n",
       "      <td>0.434328</td>\n",
       "      <td>0.589466</td>\n",
       "      <td>0.822111</td>\n",
       "      <td>0.529996</td>\n",
       "      <td>0.416971</td>\n",
       "      <td>0.832865</td>\n",
       "      <td>0.235539</td>\n",
       "      <td>0.632377</td>\n",
       "      <td>0.394450</td>\n",
       "    </tr>\n",
       "    <tr>\n",
       "      <th>Feature 5</th>\n",
       "      <td>0.438036</td>\n",
       "      <td>0.333105</td>\n",
       "      <td>0.287747</td>\n",
       "      <td>0.547883</td>\n",
       "      <td>0.007324</td>\n",
       "      <td>0.111617</td>\n",
       "      <td>0.947757</td>\n",
       "      <td>0.915246</td>\n",
       "      <td>0.322532</td>\n",
       "      <td>0.639646</td>\n",
       "    </tr>\n",
       "    <tr>\n",
       "      <th>Feature 6</th>\n",
       "      <td>0.683370</td>\n",
       "      <td>0.915699</td>\n",
       "      <td>0.832982</td>\n",
       "      <td>0.734061</td>\n",
       "      <td>0.738967</td>\n",
       "      <td>0.325146</td>\n",
       "      <td>0.498903</td>\n",
       "      <td>0.443654</td>\n",
       "      <td>0.308733</td>\n",
       "      <td>0.246558</td>\n",
       "    </tr>\n",
       "    <tr>\n",
       "      <th>Feature 7</th>\n",
       "      <td>0.506895</td>\n",
       "      <td>0.949940</td>\n",
       "      <td>0.545856</td>\n",
       "      <td>0.874357</td>\n",
       "      <td>0.708830</td>\n",
       "      <td>0.595348</td>\n",
       "      <td>0.873953</td>\n",
       "      <td>0.722542</td>\n",
       "      <td>0.479277</td>\n",
       "      <td>0.839361</td>\n",
       "    </tr>\n",
       "    <tr>\n",
       "      <th>Feature 8</th>\n",
       "      <td>0.520948</td>\n",
       "      <td>0.929730</td>\n",
       "      <td>0.244471</td>\n",
       "      <td>0.622500</td>\n",
       "      <td>0.191454</td>\n",
       "      <td>0.508896</td>\n",
       "      <td>0.644925</td>\n",
       "      <td>0.716956</td>\n",
       "      <td>0.939454</td>\n",
       "      <td>0.220820</td>\n",
       "    </tr>\n",
       "    <tr>\n",
       "      <th>Feature 9</th>\n",
       "      <td>0.354578</td>\n",
       "      <td>0.730390</td>\n",
       "      <td>0.969024</td>\n",
       "      <td>0.866191</td>\n",
       "      <td>0.206852</td>\n",
       "      <td>0.203903</td>\n",
       "      <td>0.741382</td>\n",
       "      <td>0.877407</td>\n",
       "      <td>0.688902</td>\n",
       "      <td>0.447078</td>\n",
       "    </tr>\n",
       "  </tbody>\n",
       "</table>\n",
       "</div>"
      ],
      "text/plain": [
       "           Sample 0  Sample 1  Sample 2  Sample 3  Sample 4  Sample 5  \\\n",
       "Feature 0  0.068601  0.255785  0.887473  0.491769  0.235631  0.245504   \n",
       "Feature 1  0.316104  0.648752  0.665576  0.933196  0.013674  0.307133   \n",
       "Feature 2  0.405416  0.232356  0.746589  0.211184  0.498220  0.654401   \n",
       "Feature 3  0.948314  0.232897  0.070321  0.025168  0.522411  0.269510   \n",
       "Feature 4  0.789731  0.434328  0.589466  0.822111  0.529996  0.416971   \n",
       "Feature 5  0.438036  0.333105  0.287747  0.547883  0.007324  0.111617   \n",
       "Feature 6  0.683370  0.915699  0.832982  0.734061  0.738967  0.325146   \n",
       "Feature 7  0.506895  0.949940  0.545856  0.874357  0.708830  0.595348   \n",
       "Feature 8  0.520948  0.929730  0.244471  0.622500  0.191454  0.508896   \n",
       "Feature 9  0.354578  0.730390  0.969024  0.866191  0.206852  0.203903   \n",
       "\n",
       "           Sample 6  Sample 7  Sample 8  Sample 9  \n",
       "Feature 0  0.386529  0.077322  0.196499  0.403174  \n",
       "Feature 1  0.789089  0.123165  0.316469  0.599931  \n",
       "Feature 2  0.727675  0.229064  0.679895  0.709664  \n",
       "Feature 3  0.177824  0.316154  0.190215  0.322811  \n",
       "Feature 4  0.832865  0.235539  0.632377  0.394450  \n",
       "Feature 5  0.947757  0.915246  0.322532  0.639646  \n",
       "Feature 6  0.498903  0.443654  0.308733  0.246558  \n",
       "Feature 7  0.873953  0.722542  0.479277  0.839361  \n",
       "Feature 8  0.644925  0.716956  0.939454  0.220820  \n",
       "Feature 9  0.741382  0.877407  0.688902  0.447078  "
      ]
     },
     "execution_count": 4,
     "metadata": {},
     "output_type": "execute_result"
    }
   ],
   "source": [
    "features_continuous = simulate_df(\n",
    "    n * 1, n, index_prefix='Feature ', column_prefix='Sample ')\n",
    "\n",
    "features_continuous"
   ]
  },
  {
   "cell_type": "code",
   "execution_count": 7,
   "metadata": {
    "ExecuteTime": {
     "end_time": "2017-09-22T21:47:59.244373Z",
     "start_time": "2017-09-22T21:47:58.891084Z"
    },
    "scrolled": false
   },
   "outputs": [
    {
     "ename": "ValueError",
     "evalue": "axis must be less than arr.ndim; axis=1, rank=1.",
     "output_type": "error",
     "traceback": [
      "\u001b[0;31m---------------------------------------------------------------------------\u001b[0m",
      "\u001b[0;31mValueError\u001b[0m                                Traceback (most recent call last)",
      "\u001b[0;32m<ipython-input-7-692063846749>\u001b[0m in \u001b[0;36m<module>\u001b[0;34m()\u001b[0m\n\u001b[1;32m      5\u001b[0m     \u001b[0mn_samplings\u001b[0m\u001b[0;34m=\u001b[0m\u001b[0;36m5\u001b[0m\u001b[0;34m,\u001b[0m\u001b[0;34m\u001b[0m\u001b[0m\n\u001b[1;32m      6\u001b[0m     \u001b[0mn_permutations\u001b[0m\u001b[0;34m=\u001b[0m\u001b[0;36m5\u001b[0m\u001b[0;34m,\u001b[0m\u001b[0;34m\u001b[0m\u001b[0m\n\u001b[0;32m----> 7\u001b[0;31m     plot_sample_names=True)\n\u001b[0m",
      "\u001b[0;32m~/Jumis/tools/repositories/match/match/make_match_panel.py\u001b[0m in \u001b[0;36mmake_match_panel\u001b[0;34m(target, features, target_ascending, n_jobs, scores_ascending, n_features, max_n_features, n_samplings, n_permutations, random_seed, figure_size, title, target_type, features_type, max_std, plot_sample_names, file_path_prefix, dpi)\u001b[0m\n\u001b[1;32m     93\u001b[0m         \u001b[0mn_samplings\u001b[0m\u001b[0;34m=\u001b[0m\u001b[0mn_samplings\u001b[0m\u001b[0;34m,\u001b[0m\u001b[0;34m\u001b[0m\u001b[0m\n\u001b[1;32m     94\u001b[0m         \u001b[0mn_permutations\u001b[0m\u001b[0;34m=\u001b[0m\u001b[0mn_permutations\u001b[0m\u001b[0;34m,\u001b[0m\u001b[0;34m\u001b[0m\u001b[0m\n\u001b[0;32m---> 95\u001b[0;31m         random_seed=random_seed)\n\u001b[0m\u001b[1;32m     96\u001b[0m     \u001b[0mscores\u001b[0m\u001b[0;34m.\u001b[0m\u001b[0mindex\u001b[0m \u001b[0;34m=\u001b[0m \u001b[0mfeatures\u001b[0m\u001b[0;34m.\u001b[0m\u001b[0mindex\u001b[0m\u001b[0;34m\u001b[0m\u001b[0m\n\u001b[1;32m     97\u001b[0m \u001b[0;34m\u001b[0m\u001b[0m\n",
      "\u001b[0;32m~/Jumis/tools/repositories/match/match/match.py\u001b[0m in \u001b[0;36mmatch\u001b[0;34m(target, features, function, n_jobs, n_features, max_n_features, n_samplings, confidence_interval, n_permutations, random_seed)\u001b[0m\n\u001b[1;32m     73\u001b[0m                 \u001b[0mn_samplings\u001b[0m\u001b[0;34m=\u001b[0m\u001b[0mn_samplings\u001b[0m\u001b[0;34m,\u001b[0m\u001b[0;34m\u001b[0m\u001b[0m\n\u001b[1;32m     74\u001b[0m                 \u001b[0mconfidence_interval\u001b[0m\u001b[0;34m=\u001b[0m\u001b[0mconfidence_interval\u001b[0m\u001b[0;34m,\u001b[0m\u001b[0;34m\u001b[0m\u001b[0m\n\u001b[0;32m---> 75\u001b[0;31m                 random_seed=random_seed)\n\u001b[0m\u001b[1;32m     76\u001b[0m \u001b[0;34m\u001b[0m\u001b[0m\n\u001b[1;32m     77\u001b[0m     \u001b[0;31m# Compute p-value and FDR\u001b[0m\u001b[0;34m\u001b[0m\u001b[0;34m\u001b[0m\u001b[0m\n",
      "\u001b[0;32m~/Jumis/tools/repositories/match/match/match.py\u001b[0m in \u001b[0;36mcompute_confidence_interval\u001b[0;34m(target, features, function, n_samplings, confidence_interval, random_seed)\u001b[0m\n\u001b[1;32m    138\u001b[0m         \u001b[0;32mlambda\u001b[0m \u001b[0mf\u001b[0m\u001b[0;34m:\u001b[0m \u001b[0mnorm\u001b[0m\u001b[0;34m.\u001b[0m\u001b[0mppf\u001b[0m\u001b[0;34m(\u001b[0m\u001b[0mq\u001b[0m\u001b[0;34m=\u001b[0m\u001b[0mconfidence_interval\u001b[0m\u001b[0;34m)\u001b[0m \u001b[0;34m*\u001b[0m \u001b[0mf\u001b[0m\u001b[0;34m.\u001b[0m\u001b[0mstd\u001b[0m\u001b[0;34m(\u001b[0m\u001b[0;34m)\u001b[0m \u001b[0;34m/\u001b[0m \u001b[0msqrt\u001b[0m\u001b[0;34m(\u001b[0m\u001b[0mn_samplings\u001b[0m\u001b[0;34m)\u001b[0m\u001b[0;34m,\u001b[0m\u001b[0;34m\u001b[0m\u001b[0m\n\u001b[1;32m    139\u001b[0m         \u001b[0;36m1\u001b[0m\u001b[0;34m,\u001b[0m\u001b[0;34m\u001b[0m\u001b[0m\n\u001b[0;32m--> 140\u001b[0;31m         feature_x_sampling)\n\u001b[0m\u001b[1;32m    141\u001b[0m \u001b[0;34m\u001b[0m\u001b[0m\n\u001b[1;32m    142\u001b[0m \u001b[0;34m\u001b[0m\u001b[0m\n",
      "\u001b[0;32m~/Jumis/tools/anaconda/lib/python3.6/site-packages/numpy/lib/shape_base.py\u001b[0m in \u001b[0;36mapply_along_axis\u001b[0;34m(func1d, axis, arr, *args, **kwargs)\u001b[0m\n\u001b[1;32m     81\u001b[0m     \u001b[0;32mif\u001b[0m \u001b[0;34m(\u001b[0m\u001b[0maxis\u001b[0m \u001b[0;34m>=\u001b[0m \u001b[0mnd\u001b[0m\u001b[0;34m)\u001b[0m\u001b[0;34m:\u001b[0m\u001b[0;34m\u001b[0m\u001b[0m\n\u001b[1;32m     82\u001b[0m         raise ValueError(\"axis must be less than arr.ndim; axis=%d, rank=%d.\"\n\u001b[0;32m---> 83\u001b[0;31m             % (axis, nd))\n\u001b[0m\u001b[1;32m     84\u001b[0m     \u001b[0mind\u001b[0m \u001b[0;34m=\u001b[0m \u001b[0;34m[\u001b[0m\u001b[0;36m0\u001b[0m\u001b[0;34m]\u001b[0m\u001b[0;34m*\u001b[0m\u001b[0;34m(\u001b[0m\u001b[0mnd\u001b[0m\u001b[0;34m-\u001b[0m\u001b[0;36m1\u001b[0m\u001b[0;34m)\u001b[0m\u001b[0;34m\u001b[0m\u001b[0m\n\u001b[1;32m     85\u001b[0m     \u001b[0mi\u001b[0m \u001b[0;34m=\u001b[0m \u001b[0mzeros\u001b[0m\u001b[0;34m(\u001b[0m\u001b[0mnd\u001b[0m\u001b[0;34m,\u001b[0m \u001b[0;34m'O'\u001b[0m\u001b[0;34m)\u001b[0m\u001b[0;34m\u001b[0m\u001b[0m\n",
      "\u001b[0;31mValueError\u001b[0m: axis must be less than arr.ndim; axis=1, rank=1."
     ]
    }
   ],
   "source": [
    "match_scores_for_continuous = make_match_panel(\n",
    "    target,\n",
    "    features_continuous,\n",
    "    n_features=5,\n",
    "    n_samplings=5,\n",
    "    n_permutations=5,\n",
    "    plot_sample_names=True)"
   ]
  },
  {
   "cell_type": "code",
   "execution_count": null,
   "metadata": {
    "ExecuteTime": {
     "end_time": "2017-09-22T21:46:58.145629Z",
     "start_time": "2017-09-22T21:46:56.689Z"
    }
   },
   "outputs": [],
   "source": [
    "target_str = pd.Series(\n",
    "    ['T0'] * (n // 2) + ['T1'] * (n // 2), index=target.index)\n",
    "\n",
    "target_str"
   ]
  },
  {
   "cell_type": "code",
   "execution_count": null,
   "metadata": {
    "ExecuteTime": {
     "end_time": "2017-09-22T21:46:58.146646Z",
     "start_time": "2017-09-22T21:46:56.693Z"
    }
   },
   "outputs": [],
   "source": [
    "match_scores_for_continuous = make_match_panel(\n",
    "    target_str,\n",
    "    features_continuous,\n",
    "    n_features=3,\n",
    "    n_samplings=3,\n",
    "    n_permutations=3,\n",
    "    plot_sample_names=True)"
   ]
  },
  {
   "cell_type": "code",
   "execution_count": null,
   "metadata": {
    "ExecuteTime": {
     "end_time": "2017-09-22T21:46:58.147757Z",
     "start_time": "2017-09-22T21:46:56.695Z"
    },
    "scrolled": true
   },
   "outputs": [],
   "source": [
    "features_categorical = simulate_df(\n",
    "    n * 2, n, 8, index_prefix='Feature ', column_prefix='Sample ')\n",
    "\n",
    "features_categorical"
   ]
  },
  {
   "cell_type": "code",
   "execution_count": null,
   "metadata": {
    "ExecuteTime": {
     "end_time": "2017-09-22T21:46:58.148660Z",
     "start_time": "2017-09-22T21:46:56.697Z"
    },
    "scrolled": false
   },
   "outputs": [],
   "source": [
    "match_scores_for_categorical = make_match_panel(\n",
    "    target,\n",
    "    features_categorical,\n",
    "    n_features=3,\n",
    "    n_samplings=3,\n",
    "    n_permutations=3,\n",
    "    features_type='categorical',\n",
    "    plot_sample_names=True)"
   ]
  },
  {
   "cell_type": "code",
   "execution_count": null,
   "metadata": {
    "ExecuteTime": {
     "end_time": "2017-09-22T21:46:58.149620Z",
     "start_time": "2017-09-22T21:46:56.698Z"
    },
    "scrolled": true
   },
   "outputs": [],
   "source": [
    "features_binary = simulate_df(\n",
    "    n * 3, n, 2, index_prefix='Feature ', column_prefix='Sample ')\n",
    "\n",
    "features_binary"
   ]
  },
  {
   "cell_type": "code",
   "execution_count": null,
   "metadata": {
    "ExecuteTime": {
     "end_time": "2017-09-22T21:46:58.150566Z",
     "start_time": "2017-09-22T21:46:56.700Z"
    },
    "scrolled": false
   },
   "outputs": [],
   "source": [
    "match_scores_for_binary = make_match_panel(\n",
    "    target,\n",
    "    features_binary,\n",
    "    n_features=3,\n",
    "    n_samplings=3,\n",
    "    n_permutations=3,\n",
    "    features_type='binary',\n",
    "    plot_sample_names=True)"
   ]
  },
  {
   "cell_type": "code",
   "execution_count": null,
   "metadata": {
    "ExecuteTime": {
     "end_time": "2017-09-22T21:46:58.151609Z",
     "start_time": "2017-09-22T21:46:56.702Z"
    }
   },
   "outputs": [],
   "source": [
    "features_with_missing = simulate_df(\n",
    "    n * 3, n, index_prefix='Feature ', column_prefix='Sample ')\n",
    "\n",
    "features_with_missing.loc[\n",
    "    np.random.choice(features_with_missing.index, size=n // 3),\n",
    "    np.random.choice(features_with_missing.columns, size=n // 3)] = None\n",
    "\n",
    "features_with_missing"
   ]
  },
  {
   "cell_type": "code",
   "execution_count": null,
   "metadata": {
    "ExecuteTime": {
     "end_time": "2017-09-22T21:46:58.152504Z",
     "start_time": "2017-09-22T21:46:56.703Z"
    },
    "collapsed": true
   },
   "outputs": [],
   "source": [
    "from match.information.information.information import compute_information_coefficient"
   ]
  },
  {
   "cell_type": "code",
   "execution_count": null,
   "metadata": {
    "ExecuteTime": {
     "end_time": "2017-09-22T21:46:58.153533Z",
     "start_time": "2017-09-22T21:46:56.705Z"
    }
   },
   "outputs": [],
   "source": [
    "compute_information_coefficient(np.array([0,0,0]), np.array([0,0,0]))"
   ]
  },
  {
   "cell_type": "code",
   "execution_count": null,
   "metadata": {
    "ExecuteTime": {
     "end_time": "2017-09-22T21:46:58.154568Z",
     "start_time": "2017-09-22T21:46:56.706Z"
    }
   },
   "outputs": [],
   "source": [
    "match_scores_for_binary = make_match_panel(\n",
    "    target,\n",
    "    features_with_missing,\n",
    "    n_features=3,\n",
    "    n_samplings=3,\n",
    "    n_permutations=3,\n",
    "    features_type='binary',\n",
    "    plot_sample_names=True)"
   ]
  },
  {
   "cell_type": "code",
   "execution_count": null,
   "metadata": {
    "ExecuteTime": {
     "end_time": "2017-09-22T21:46:58.155726Z",
     "start_time": "2017-09-22T21:46:56.708Z"
    },
    "collapsed": true
   },
   "outputs": [],
   "source": [
    "features = [\n",
    "    [\n",
    "        'Continuous features',\n",
    "        features_continuous,\n",
    "        ['Feature {}'.format(i) for i in range(n)],\n",
    "        ['Alias {}'.format(i) for i in range(n)],\n",
    "        None,  #match_scores_for_continuous,\n",
    "        False,\n",
    "        'continuous',\n",
    "    ],\n",
    "    [\n",
    "        'Categorical features',\n",
    "        features_categorical,\n",
    "        ['Feature {}'.format(i) for i in range(n)],\n",
    "        ['Alias {}'.format(i) for i in range(n)],\n",
    "        None,  #match_scores_for_categorical,\n",
    "        False,\n",
    "        'categorical',\n",
    "    ],\n",
    "    [\n",
    "        'Binary features',\n",
    "        features_binary,\n",
    "        ['Feature {}'.format(i) for i in range(n)],\n",
    "        ['Alias {}'.format(i) for i in range(n)],\n",
    "        None,  #match_scores_for_binary,\n",
    "        False,\n",
    "        'binary',\n",
    "    ],\n",
    "    [\n",
    "        'Cntinuous features (scores ascending)',\n",
    "        features_continuous.iloc[:, :-1],\n",
    "        ['Feature {}'.format(i) for i in range(n)],\n",
    "        ['Alias {}'.format(i) for i in range(n)],\n",
    "        None,  #match_scores_for_continuous,\n",
    "        True,\n",
    "        'continuous',\n",
    "    ],\n",
    "]"
   ]
  },
  {
   "cell_type": "code",
   "execution_count": null,
   "metadata": {
    "ExecuteTime": {
     "end_time": "2017-09-22T21:46:58.156735Z",
     "start_time": "2017-09-22T21:46:56.711Z"
    },
    "scrolled": false
   },
   "outputs": [],
   "source": [
    "make_summary_match_panel(\n",
    "    target, features, title='Default', plot_sample_names=True)"
   ]
  },
  {
   "cell_type": "code",
   "execution_count": null,
   "metadata": {
    "ExecuteTime": {
     "end_time": "2017-09-22T21:46:58.157722Z",
     "start_time": "2017-09-22T21:46:56.712Z"
    },
    "scrolled": false
   },
   "outputs": [],
   "source": [
    "make_summary_match_panel(\n",
    "    target,\n",
    "    features,\n",
    "    plot_only_columns_shared_by_target_and_all_features=True,\n",
    "    title='Only columns shared by target and all features',\n",
    "    plot_sample_names=True)"
   ]
  }
 ],
 "metadata": {
  "kernelspec": {
   "display_name": "Python 3",
   "language": "python",
   "name": "python3"
  },
  "language_info": {
   "codemirror_mode": {
    "name": "ipython",
    "version": 3
   },
   "file_extension": ".py",
   "mimetype": "text/x-python",
   "name": "python",
   "nbconvert_exporter": "python",
   "pygments_lexer": "ipython3",
   "version": "3.6.2"
  }
 },
 "nbformat": 4,
 "nbformat_minor": 2
}

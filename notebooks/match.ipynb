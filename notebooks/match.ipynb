{
 "cells": [
  {
   "cell_type": "code",
   "execution_count": null,
   "metadata": {
    "ExecuteTime": {
     "end_time": "2017-09-21T19:50:05.956938Z",
     "start_time": "2017-09-21T19:50:05.018001Z"
    }
   },
   "outputs": [],
   "source": [
    "import numpy as np\n",
    "import pandas as pd\n",
    "\n",
    "import sys\n",
    "sys.path.insert(0, '..')\n",
    "\n",
    "from match.make_match_panel import make_match_panel\n",
    "from match.make_summary_match_panel import make_summary_match_panel\n",
    "from match.support.support.df import simulate_df\n",
    "from match.support.support.s import simulate_s\n",
    "\n",
    "%load_ext autoreload\n",
    "%autoreload 2\n",
    "%matplotlib inline"
   ]
  },
  {
   "cell_type": "code",
   "execution_count": null,
   "metadata": {
    "ExecuteTime": {
     "end_time": "2017-09-21T19:50:05.957903Z",
     "start_time": "2017-09-21T19:50:04.990Z"
    },
    "collapsed": true
   },
   "outputs": [],
   "source": [
    "n = 10"
   ]
  },
  {
   "cell_type": "code",
   "execution_count": null,
   "metadata": {
    "ExecuteTime": {
     "end_time": "2017-09-21T19:50:05.958927Z",
     "start_time": "2017-09-21T19:50:04.991Z"
    }
   },
   "outputs": [],
   "source": [
    "target = simulate_s(n, index_prefix='Sample ')\n",
    "\n",
    "target"
   ]
  },
  {
   "cell_type": "code",
   "execution_count": null,
   "metadata": {
    "ExecuteTime": {
     "end_time": "2017-09-21T19:50:05.960020Z",
     "start_time": "2017-09-21T19:50:04.998Z"
    },
    "scrolled": true
   },
   "outputs": [],
   "source": [
    "features_continuous = simulate_df(\n",
    "    n * 2, n, index_prefix='Feature ', column_prefix='Sample ')\n",
    "\n",
    "features_continuous"
   ]
  },
  {
   "cell_type": "code",
   "execution_count": null,
   "metadata": {
    "ExecuteTime": {
     "end_time": "2017-09-21T19:50:05.961111Z",
     "start_time": "2017-09-21T19:50:04.999Z"
    },
    "scrolled": false
   },
   "outputs": [],
   "source": [
    "match_scores_for_continuous = make_match_panel(\n",
    "    target,\n",
    "    features_continuous,\n",
    "    n_features=3,\n",
    "    n_samplings=3,\n",
    "    n_permutations=3,\n",
    "    plot_sample_names=True)"
   ]
  },
  {
   "cell_type": "code",
   "execution_count": null,
   "metadata": {
    "ExecuteTime": {
     "end_time": "2017-09-21T19:50:05.962132Z",
     "start_time": "2017-09-21T19:50:05.001Z"
    }
   },
   "outputs": [],
   "source": [
    "target_str = pd.Series(\n",
    "    ['T0'] * (n // 2) + ['T1'] * (n // 2), index=target.index)\n",
    "\n",
    "target_str"
   ]
  },
  {
   "cell_type": "code",
   "execution_count": null,
   "metadata": {
    "ExecuteTime": {
     "end_time": "2017-09-21T19:50:05.963158Z",
     "start_time": "2017-09-21T19:50:05.003Z"
    }
   },
   "outputs": [],
   "source": [
    "from matplotlib.colors import ListedColormap\n",
    "\n",
    "match_scores_for_continuous = make_match_panel(\n",
    "    target_str,\n",
    "    features_continuous,\n",
    "    n_features=3,\n",
    "    n_samplings=3,\n",
    "    n_permutations=3,\n",
    "    target_type='binary',\n",
    "    plot_sample_names=True)"
   ]
  },
  {
   "cell_type": "code",
   "execution_count": null,
   "metadata": {
    "ExecuteTime": {
     "end_time": "2017-09-21T19:50:05.964185Z",
     "start_time": "2017-09-21T19:50:05.014Z"
    },
    "scrolled": true
   },
   "outputs": [],
   "source": [
    "features_categorical = simulate_df(\n",
    "    n * 8, n, 8, index_prefix='Feature ', column_prefix='Sample ')\n",
    "\n",
    "features_categorical"
   ]
  },
  {
   "cell_type": "code",
   "execution_count": null,
   "metadata": {
    "ExecuteTime": {
     "end_time": "2017-09-21T19:50:05.965221Z",
     "start_time": "2017-09-21T19:50:05.015Z"
    },
    "scrolled": false
   },
   "outputs": [],
   "source": [
    "match_scores_for_categorical = make_match_panel(\n",
    "    target,\n",
    "    features_categorical,\n",
    "    n_features=3,\n",
    "    n_samplings=3,\n",
    "    n_permutations=3,\n",
    "    features_type='categorical',\n",
    "    plot_sample_names=True)"
   ]
  },
  {
   "cell_type": "code",
   "execution_count": null,
   "metadata": {
    "ExecuteTime": {
     "end_time": "2017-09-21T19:50:05.966265Z",
     "start_time": "2017-09-21T19:50:05.026Z"
    },
    "scrolled": true
   },
   "outputs": [],
   "source": [
    "features_binary = simulate_df(\n",
    "    n * 8, n, 2, index_prefix='Feature ', column_prefix='Sample ')\n",
    "\n",
    "features_binary"
   ]
  },
  {
   "cell_type": "code",
   "execution_count": null,
   "metadata": {
    "ExecuteTime": {
     "end_time": "2017-09-21T19:50:05.967310Z",
     "start_time": "2017-09-21T19:50:05.027Z"
    },
    "scrolled": false
   },
   "outputs": [],
   "source": [
    "match_scores_for_binary = make_match_panel(\n",
    "    target,\n",
    "    features_categorical,\n",
    "    n_features=3,\n",
    "    n_samplings=3,\n",
    "    n_permutations=3,\n",
    "    features_type='categorical',\n",
    "    plot_sample_names=True)"
   ]
  },
  {
   "cell_type": "code",
   "execution_count": null,
   "metadata": {
    "ExecuteTime": {
     "end_time": "2017-09-21T19:50:05.968333Z",
     "start_time": "2017-09-21T19:50:05.028Z"
    },
    "collapsed": true
   },
   "outputs": [],
   "source": [
    "features = [\n",
    "    [\n",
    "        'Continuous features',\n",
    "        features_continuous,\n",
    "        False,\n",
    "        'continuous',\n",
    "        match_scores_for_continuous,\n",
    "        ['Feature {}'.format(i) for i in range(n)],\n",
    "        ['Alias {}'.format(i) for i in range(n)],\n",
    "    ],\n",
    "    [\n",
    "        'Categorical features',\n",
    "        features_categorical,\n",
    "        False,\n",
    "        'categorical',\n",
    "        match_scores_for_categorical,\n",
    "        ['Feature {}'.format(i) for i in range(n)],\n",
    "        ['Alias {}'.format(i) for i in range(n)],\n",
    "    ],\n",
    "    [\n",
    "        'Binary features',\n",
    "        features_binary,\n",
    "        False,\n",
    "        'binary',\n",
    "        match_scores_for_binary,\n",
    "        ['Feature {}'.format(i) for i in range(n)],\n",
    "        ['Alias {}'.format(i) for i in range(n)],\n",
    "    ],\n",
    "    [\n",
    "        'Cntinuous features (increasing score)',\n",
    "        features_continuous.iloc[:, :-1],\n",
    "        True,\n",
    "        'continuous',\n",
    "        match_scores_for_continuous,\n",
    "        ['Feature {}'.format(i) for i in range(n)],\n",
    "        ['Alias {}'.format(i) for i in range(n)],\n",
    "    ],\n",
    "]"
   ]
  },
  {
   "cell_type": "code",
   "execution_count": null,
   "metadata": {
    "ExecuteTime": {
     "end_time": "2017-09-21T19:50:05.969365Z",
     "start_time": "2017-09-21T19:50:05.030Z"
    },
    "scrolled": false
   },
   "outputs": [],
   "source": [
    "make_summary_match_panel(\n",
    "    target, features, title='Default', plot_sample_names=True)"
   ]
  },
  {
   "cell_type": "code",
   "execution_count": null,
   "metadata": {
    "ExecuteTime": {
     "end_time": "2017-09-21T19:50:05.970471Z",
     "start_time": "2017-09-21T19:50:05.033Z"
    },
    "scrolled": false
   },
   "outputs": [],
   "source": [
    "make_summary_match_panel(\n",
    "    target,\n",
    "    features,\n",
    "    indexs=['Sample 1', 'Sample 2', 'Sample 3'],\n",
    "    plot_sample_names=True,\n",
    "    title='For specified samples')"
   ]
  },
  {
   "cell_type": "code",
   "execution_count": null,
   "metadata": {
    "ExecuteTime": {
     "end_time": "2017-09-21T19:50:05.971491Z",
     "start_time": "2017-09-21T19:50:05.034Z"
    },
    "scrolled": false
   },
   "outputs": [],
   "source": [
    "make_summary_match_panel(\n",
    "    target,\n",
    "    features,\n",
    "    indexs='shared_by_target_and_all_features',\n",
    "    plot_sample_names=True,\n",
    "    title='Only samples shared by target and all features')"
   ]
  }
 ],
 "metadata": {
  "kernelspec": {
   "display_name": "Python 3",
   "language": "python",
   "name": "python3"
  },
  "language_info": {
   "codemirror_mode": {
    "name": "ipython",
    "version": 3
   },
   "file_extension": ".py",
   "mimetype": "text/x-python",
   "name": "python",
   "nbconvert_exporter": "python",
   "pygments_lexer": "ipython3",
   "version": "3.6.2"
  }
 },
 "nbformat": 4,
 "nbformat_minor": 2
}
